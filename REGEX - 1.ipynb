{
 "cells": [
  {
   "cell_type": "code",
   "execution_count": 1,
   "id": "31bd8a35-5351-4e4e-a1e6-752562b3e4a5",
   "metadata": {},
   "outputs": [],
   "source": [
    "import re"
   ]
  },
  {
   "cell_type": "code",
   "execution_count": 6,
   "id": "0f8f97cb-b265-4008-81a1-f0906f073488",
   "metadata": {},
   "outputs": [],
   "source": [
    "text1 = \"Kohli has garnered 10 ICC Awards which is the most decorated player in International Cricket history. He won the ICC ODI Player of the Year award four times in 2012, 2017, 2018, and 2023. He also won the Sir Garfield Sobers Trophy, given to the ICC Cricketer of the Year, on two occasions, in 2017 and 2018 respectively\""
   ]
  },
  {
   "cell_type": "code",
   "execution_count": 7,
   "id": "be60539a-d1c5-4220-a186-5d81b49524b5",
   "metadata": {},
   "outputs": [],
   "source": [
    "pattern1 = \"[0-9]{4}\""
   ]
  },
  {
   "cell_type": "code",
   "execution_count": 8,
   "id": "3fe7b541-e1bb-4411-a655-3b2993f98054",
   "metadata": {},
   "outputs": [
    {
     "data": {
      "text/plain": [
       "['2012', '2017', '2018', '2023', '2017', '2018']"
      ]
     },
     "execution_count": 8,
     "metadata": {},
     "output_type": "execute_result"
    }
   ],
   "source": [
    "matches = re.findall(pattern1, text1)\n",
    "matches"
   ]
  },
  {
   "cell_type": "code",
   "execution_count": 19,
   "id": "a10cd441-f6db-4dc3-a6fa-a921aa95f78b",
   "metadata": {},
   "outputs": [],
   "source": [
    "text2 = \"Kohli has garnered FY2908 Q1. ieurbv urnvuierhve iurehvuierbvnvkjnv sl v iuvkdv Fy3093 Q2\"\n",
    "pattern2 = \"[A-Z]+\\d+\""
   ]
  },
  {
   "cell_type": "code",
   "execution_count": 20,
   "id": "e34bd09a-4964-47cd-a55c-ca0b686c060a",
   "metadata": {},
   "outputs": [
    {
     "data": {
      "text/plain": [
       "['FY2908', 'Q1', 'Fy3093', 'Q2']"
      ]
     },
     "execution_count": 20,
     "metadata": {},
     "output_type": "execute_result"
    }
   ],
   "source": [
    "re.findall(pattern2, text2, flags=re.IGNORECASE)   # we use ignore case to avoid the issue raise by lower and upper case."
   ]
  },
  {
   "cell_type": "code",
   "execution_count": 36,
   "id": "0a7521d4-d4b9-4b76-a5d3-256faf0654c3",
   "metadata": {},
   "outputs": [],
   "source": [
    "text3 = \"In 2014, American Appraisal conducted an evaluation of Kohli's brand value and determined it to be $56.4 million, placing him fourth on the list of India's most valued celebrity brands.[76] In October 2016 by Duff & Phelps, Kohli's brand worth had increased to $92 million, second only to that of Bollywood actor Shah Rukh Khan.[77] In 2017, Kohli was recognized by Forbes as the seventh Most Valuable Brand among Athletes, with a brand estimation of $14.5 million.\"\n",
    "pattern3 = \"\\$[0-9\\.]+\\s[a-z]+\""
   ]
  },
  {
   "cell_type": "code",
   "execution_count": 37,
   "id": "7a60f98e-cee9-412b-949e-c49ad0d7a478",
   "metadata": {},
   "outputs": [
    {
     "data": {
      "text/plain": [
       "['$56.4 million', '$92 million', '$14.5 million']"
      ]
     },
     "execution_count": 37,
     "metadata": {},
     "output_type": "execute_result"
    }
   ],
   "source": [
    "re.findall(pattern3, text3)"
   ]
  },
  {
   "cell_type": "code",
   "execution_count": 38,
   "id": "6a57c932-f6cb-428c-82e2-ef86d90b44b4",
   "metadata": {},
   "outputs": [],
   "source": [
    "text4 = \"In 2014, American Appraisal conducted an evaluation of Kohli's brand value and determined it to be $56.4 million, placing him fourth on the list of India's most valued celebrity brands.[76] In October 2016 by Duff & Phelps, Kohli's brand worth had increased to $92 million, second only to that of Bollywood actor Shah Rukh Khan.[77] In 2017, Kohli was recognized by Forbes as the seventh Most Valuable Brand among Athletes, with a brand estimation of $14.5 million.\"\n",
    "pattern4 = \"\\$([0-9\\.]+\\s[a-z]+)\""
   ]
  },
  {
   "cell_type": "code",
   "execution_count": 39,
   "id": "f10372f0-1fd1-49cf-9670-4c7a1b3853ae",
   "metadata": {},
   "outputs": [
    {
     "data": {
      "text/plain": [
       "['56.4 million', '92 million', '14.5 million']"
      ]
     },
     "execution_count": 39,
     "metadata": {},
     "output_type": "execute_result"
    }
   ],
   "source": [
    "re.findall(pattern4, text4)"
   ]
  },
  {
   "cell_type": "code",
   "execution_count": 40,
   "id": "a32cc4f3-048b-493f-95a6-13bbc59f768c",
   "metadata": {},
   "outputs": [],
   "source": [
    "text5 = \"In 2014, American Appraisal conducted an evaluation of Kohli's brand value and determined FY3093 Q2 it to be $56.4 million, placing him fourth on the list of India's most valued celebrity brands.[76] In October 2016 by Duff & Phelps, Kohli's brand worth had Fy3993 Q89 increased to $92 million, second only to that of Bollywood actor Shah Rukh Khan.[77] In 2017, Kohli was recognized by Forbes as the seventh Most Valuable Brand among Athletes, with a brand estimation of $14.5 million.\"\n",
    "pattern5 = \"[a-zA-Z]+\\d+|\\$[0-9\\.]+\\s[a-z]+\""
   ]
  },
  {
   "cell_type": "code",
   "execution_count": 41,
   "id": "eb877775-83e3-48d6-a513-63203a06d503",
   "metadata": {},
   "outputs": [
    {
     "data": {
      "text/plain": [
       "['FY3093',\n",
       " 'Q2',\n",
       " '$56.4 million',\n",
       " 'Fy3993',\n",
       " 'Q89',\n",
       " '$92 million',\n",
       " '$14.5 million']"
      ]
     },
     "execution_count": 41,
     "metadata": {},
     "output_type": "execute_result"
    }
   ],
   "source": [
    "re.findall(pattern5, text5)"
   ]
  },
  {
   "cell_type": "code",
   "execution_count": 46,
   "id": "884770ce-dccd-4cec-917e-45437e76e5b6",
   "metadata": {},
   "outputs": [],
   "source": [
    "text6 = \"In 2014, American Appraisal conducted an evaluation of Kohli's brand value and determined FY3093 Q2 it to be $56.4 million, placing him fourth on the list of India's most valued celebrity brands.[76] In October 2016 by Duff & Phelps, Kohli's brand worth had Fy3993 Q89 increased to $92 million, second only to that of Bollywood actor Shah Rukh Khan.[77] In 2017, Kohli was recognized by Forbes as the seventh Most Valuable Brand among Athletes, with a brand estimation of $14.5 million.\"\n",
    "pattern6 = \"Fy([0-9]+\\sq[0-9]+)[^\\$]+\\$([0-9\\.]+\\s[a-z]+)\""
   ]
  },
  {
   "cell_type": "code",
   "execution_count": 47,
   "id": "c1ab342a-455e-4817-93f5-3b372bd73fbe",
   "metadata": {},
   "outputs": [
    {
     "data": {
      "text/plain": [
       "[('3093 Q2', '56.4 million'), ('3993 Q89', '92 million')]"
      ]
     },
     "execution_count": 47,
     "metadata": {},
     "output_type": "execute_result"
    }
   ],
   "source": [
    "re.findall(pattern6, text6, flags=re.IGNORECASE)"
   ]
  },
  {
   "cell_type": "code",
   "execution_count": null,
   "id": "13403316-e24f-4c5d-a2f4-f5074b9702d3",
   "metadata": {},
   "outputs": [],
   "source": []
  }
 ],
 "metadata": {
  "kernelspec": {
   "display_name": "Python 3 (ipykernel)",
   "language": "python",
   "name": "python3"
  },
  "language_info": {
   "codemirror_mode": {
    "name": "ipython",
    "version": 3
   },
   "file_extension": ".py",
   "mimetype": "text/x-python",
   "name": "python",
   "nbconvert_exporter": "python",
   "pygments_lexer": "ipython3",
   "version": "3.10.10"
  },
  "widgets": {
   "application/vnd.jupyter.widget-state+json": {
    "state": {},
    "version_major": 2,
    "version_minor": 0
   }
  }
 },
 "nbformat": 4,
 "nbformat_minor": 5
}
