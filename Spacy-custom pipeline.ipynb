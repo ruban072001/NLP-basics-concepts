{
 "cells": [
  {
   "cell_type": "code",
   "execution_count": 1,
   "id": "86948c7b-0ecf-4806-a34b-65f43f99f09d",
   "metadata": {},
   "outputs": [],
   "source": [
    "import spacy"
   ]
  },
  {
   "cell_type": "code",
   "execution_count": 19,
   "id": "f85f9972-655e-40dc-a84a-179aebfabca1",
   "metadata": {},
   "outputs": [],
   "source": [
    "nlp1 = spacy.load('en_core_web_sm')   # here we have in-built pipeline \n",
    "nlp2 = spacy.blank('en')              # here we customize our pipeline"
   ]
  },
  {
   "cell_type": "code",
   "execution_count": 20,
   "id": "aef24b88-5d14-48fa-a370-4a2f1633a268",
   "metadata": {},
   "outputs": [
    {
     "data": {
      "text/plain": [
       "['tok2vec', 'tagger', 'parser', 'attribute_ruler', 'lemmatizer', 'ner']"
      ]
     },
     "execution_count": 20,
     "metadata": {},
     "output_type": "execute_result"
    }
   ],
   "source": [
    "nlp1.pipe_names"
   ]
  },
  {
   "cell_type": "code",
   "execution_count": 21,
   "id": "b2bf26dd-32fc-479e-a1d2-916793f72d05",
   "metadata": {},
   "outputs": [
    {
     "data": {
      "text/plain": [
       "[]"
      ]
     },
     "execution_count": 21,
     "metadata": {},
     "output_type": "execute_result"
    }
   ],
   "source": [
    "nlp2.pipe_names"
   ]
  },
  {
   "cell_type": "code",
   "execution_count": 22,
   "id": "06253b81-b309-4c2d-9b80-83440d69d713",
   "metadata": {},
   "outputs": [],
   "source": [
    "text = \"The world is destroying Millions of Trees every year. We need to stop that.\"\n",
    "word = nlp1(text)"
   ]
  },
  {
   "cell_type": "code",
   "execution_count": 23,
   "id": "22427007-1903-442e-8674-4adc69c6b91f",
   "metadata": {},
   "outputs": [
    {
     "name": "stdout",
     "output_type": "stream",
     "text": [
      "The | the | DET\n",
      "world | world | NOUN\n",
      "is | be | AUX\n",
      "destroying | destroy | VERB\n",
      "Millions | Millions | PROPN\n",
      "of | of | ADP\n",
      "Trees | Trees | PROPN\n",
      "every | every | DET\n",
      "year | year | NOUN\n",
      ". | . | PUNCT\n",
      "We | we | PRON\n",
      "need | need | VERB\n",
      "to | to | PART\n",
      "stop | stop | VERB\n",
      "that | that | PRON\n",
      ". | . | PUNCT\n"
     ]
    }
   ],
   "source": [
    "for i in word:\n",
    "    print(i.text, \"|\", i.lemma_, \"|\", i.pos_)"
   ]
  },
  {
   "cell_type": "code",
   "execution_count": 24,
   "id": "c5c692e5-2cf3-4513-8fba-a7fa76d3b9bb",
   "metadata": {},
   "outputs": [
    {
     "name": "stdout",
     "output_type": "stream",
     "text": [
      "Millions of Trees | ORG | Companies, agencies, institutions, etc.\n",
      "every year | DATE | Absolute or relative dates or periods\n"
     ]
    }
   ],
   "source": [
    "for i in word.ents:\n",
    "    print(i.text, \"|\", i.label_, \"|\", spacy.explain(i.label_))"
   ]
  },
  {
   "cell_type": "code",
   "execution_count": 25,
   "id": "f8ced4e4-303e-4d88-bfb7-e4cf6a94c76e",
   "metadata": {},
   "outputs": [
    {
     "data": {
      "text/html": [
       "<span class=\"tex2jax_ignore\"><div class=\"entities\" style=\"line-height: 2.5; direction: ltr\">The world is destroying \n",
       "<mark class=\"entity\" style=\"background: #7aecec; padding: 0.45em 0.6em; margin: 0 0.25em; line-height: 1; border-radius: 0.35em;\">\n",
       "    Millions of Trees\n",
       "    <span style=\"font-size: 0.8em; font-weight: bold; line-height: 1; border-radius: 0.35em; vertical-align: middle; margin-left: 0.5rem\">ORG</span>\n",
       "</mark>\n",
       " \n",
       "<mark class=\"entity\" style=\"background: #bfe1d9; padding: 0.45em 0.6em; margin: 0 0.25em; line-height: 1; border-radius: 0.35em;\">\n",
       "    every year\n",
       "    <span style=\"font-size: 0.8em; font-weight: bold; line-height: 1; border-radius: 0.35em; vertical-align: middle; margin-left: 0.5rem\">DATE</span>\n",
       "</mark>\n",
       ". We need to stop that.</div></span>"
      ],
      "text/plain": [
       "<IPython.core.display.HTML object>"
      ]
     },
     "metadata": {},
     "output_type": "display_data"
    }
   ],
   "source": [
    "from spacy import displacy\n",
    "\n",
    "displacy.render(word, style=\"ent\")"
   ]
  },
  {
   "cell_type": "markdown",
   "id": "7873139a-bd12-4134-beed-19d65529a946",
   "metadata": {},
   "source": [
    "# custom pipeline adding"
   ]
  },
  {
   "cell_type": "code",
   "execution_count": 26,
   "id": "85808237-d238-4f19-b569-7503c28d2cda",
   "metadata": {},
   "outputs": [
    {
     "data": {
      "text/plain": [
       "[]"
      ]
     },
     "execution_count": 26,
     "metadata": {},
     "output_type": "execute_result"
    }
   ],
   "source": [
    "nlp2.pipe_names"
   ]
  },
  {
   "cell_type": "code",
   "execution_count": 27,
   "id": "33b6bfb0-19ca-45f8-b783-392275d2cc75",
   "metadata": {},
   "outputs": [
    {
     "data": {
      "text/plain": [
       "<spacy.pipeline.ner.EntityRecognizer at 0x1aa2e2ccc80>"
      ]
     },
     "execution_count": 27,
     "metadata": {},
     "output_type": "execute_result"
    }
   ],
   "source": [
    "nlp2.add_pipe('ner') # this is some random ner method we add to our pipeline"
   ]
  },
  {
   "cell_type": "code",
   "execution_count": 28,
   "id": "bbf6feb5-49e5-45bc-8cd8-25ab0103268d",
   "metadata": {},
   "outputs": [
    {
     "data": {
      "text/plain": [
       "['ner']"
      ]
     },
     "execution_count": 28,
     "metadata": {},
     "output_type": "execute_result"
    }
   ],
   "source": [
    "nlp2.pipe_names"
   ]
  },
  {
   "cell_type": "markdown",
   "id": "2c1dc7ce-5812-47e4-aaf7-767137ba1e62",
   "metadata": {},
   "source": [
    "we can also add our load model methods to our custom pipeline"
   ]
  },
  {
   "cell_type": "code",
   "execution_count": 33,
   "id": "f536c09b-cdbd-4d46-a03a-ff82557762e1",
   "metadata": {},
   "outputs": [],
   "source": [
    "nlp3 = spacy.blank('en')"
   ]
  },
  {
   "cell_type": "code",
   "execution_count": 34,
   "id": "680924b5-b80e-4fd4-beba-6b96e8a1dc3b",
   "metadata": {},
   "outputs": [
    {
     "data": {
      "text/plain": [
       "[]"
      ]
     },
     "execution_count": 34,
     "metadata": {},
     "output_type": "execute_result"
    }
   ],
   "source": [
    "nlp3.pipe_names"
   ]
  },
  {
   "cell_type": "code",
   "execution_count": 35,
   "id": "e34bd782-6fee-4a66-9452-e1ef0c22e5ee",
   "metadata": {},
   "outputs": [
    {
     "data": {
      "text/plain": [
       "<spacy.pipeline.ner.EntityRecognizer at 0x1aa2d59ca50>"
      ]
     },
     "execution_count": 35,
     "metadata": {},
     "output_type": "execute_result"
    }
   ],
   "source": [
    "nlp3.add_pipe('ner', source=nlp1) # we just load ner to our custom pipeline from our loaded english model"
   ]
  },
  {
   "cell_type": "code",
   "execution_count": 36,
   "id": "2fad1205-a7a8-49cb-88d0-47f25b75b934",
   "metadata": {},
   "outputs": [
    {
     "data": {
      "text/plain": [
       "['ner']"
      ]
     },
     "execution_count": 36,
     "metadata": {},
     "output_type": "execute_result"
    }
   ],
   "source": [
    "nlp3.pipe_names"
   ]
  },
  {
   "cell_type": "code",
   "execution_count": 44,
   "id": "1c71f509-3189-48e0-b0be-08cb2cf3a7b9",
   "metadata": {},
   "outputs": [
    {
     "name": "stdout",
     "output_type": "stream",
     "text": [
      "TATA | ORG | Companies, agencies, institutions, etc.\n",
      "Ratan N Tata | ORG | Companies, agencies, institutions, etc.\n"
     ]
    }
   ],
   "source": [
    "text = 'TATA is founded by Ratan N Tata.'\n",
    "word = nlp3(text)\n",
    "for i in word.ents:\n",
    "    print(i.text, \"|\", i.label_, \"|\", spacy.explain(i.label_))"
   ]
  },
  {
   "cell_type": "code",
   "execution_count": null,
   "id": "33d7e4d0-f2ce-43ce-9d08-78d9ee6b1c2f",
   "metadata": {},
   "outputs": [],
   "source": []
  }
 ],
 "metadata": {
  "kernelspec": {
   "display_name": "Python 3 (ipykernel)",
   "language": "python",
   "name": "python3"
  },
  "language_info": {
   "codemirror_mode": {
    "name": "ipython",
    "version": 3
   },
   "file_extension": ".py",
   "mimetype": "text/x-python",
   "name": "python",
   "nbconvert_exporter": "python",
   "pygments_lexer": "ipython3",
   "version": "3.10.10"
  },
  "widgets": {
   "application/vnd.jupyter.widget-state+json": {
    "state": {},
    "version_major": 2,
    "version_minor": 0
   }
  }
 },
 "nbformat": 4,
 "nbformat_minor": 5
}
