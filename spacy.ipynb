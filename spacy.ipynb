{
 "cells": [
  {
   "cell_type": "code",
   "execution_count": 1,
   "id": "53649def-d9dc-4909-9705-53d2a36dc950",
   "metadata": {},
   "outputs": [],
   "source": [
    "import spacy"
   ]
  },
  {
   "cell_type": "markdown",
   "id": "62fafd13-fa3a-4726-9b22-5251096dc5b2",
   "metadata": {},
   "source": [
    "we are using \"en\" an english language model, we can able to change that language model for our specific usecase"
   ]
  },
  {
   "cell_type": "code",
   "execution_count": 19,
   "id": "b8666a8c-e4d0-423e-947d-d215bfeb6c2c",
   "metadata": {},
   "outputs": [],
   "source": [
    "nlp = spacy.blank('en')            ## this blank method only have basic tokenizer\n",
    "text = nlp('i think it will become easier for everyone in the world!')"
   ]
  },
  {
   "cell_type": "code",
   "execution_count": 20,
   "id": "71d97de6-1cfc-4398-8ba0-6dd84cde816d",
   "metadata": {},
   "outputs": [
    {
     "name": "stdout",
     "output_type": "stream",
     "text": [
      "i think it will become easier for everyone in the world!\n"
     ]
    }
   ],
   "source": [
    "print(text)"
   ]
  },
  {
   "cell_type": "code",
   "execution_count": 21,
   "id": "2feac062-c8d6-4992-985d-a5a655dbc2fa",
   "metadata": {},
   "outputs": [
    {
     "data": {
      "text/plain": [
       "i"
      ]
     },
     "execution_count": 21,
     "metadata": {},
     "output_type": "execute_result"
    }
   ],
   "source": [
    "text[0]"
   ]
  },
  {
   "cell_type": "code",
   "execution_count": 22,
   "id": "ab81311b-27e6-4e7f-b7d5-559dfec0e4a1",
   "metadata": {},
   "outputs": [
    {
     "name": "stdout",
     "output_type": "stream",
     "text": [
      "i\n",
      "think\n",
      "it\n",
      "will\n",
      "become\n",
      "easier\n",
      "for\n",
      "everyone\n",
      "in\n",
      "the\n",
      "world\n",
      "!\n"
     ]
    }
   ],
   "source": [
    "for i in text:\n",
    "    print(i)"
   ]
  },
  {
   "cell_type": "code",
   "execution_count": 23,
   "id": "f31d8fc0-0825-4d00-9004-7e78b5ee7001",
   "metadata": {},
   "outputs": [],
   "source": [
    "text2 = nlp(\"Let's go to F.Y.!\")"
   ]
  },
  {
   "cell_type": "code",
   "execution_count": 24,
   "id": "63fccbcc-0326-4161-a54e-905c043e13d4",
   "metadata": {},
   "outputs": [
    {
     "name": "stdout",
     "output_type": "stream",
     "text": [
      "Let\n",
      "'s\n",
      "go\n",
      "to\n",
      "F.Y.\n",
      "!\n"
     ]
    }
   ],
   "source": [
    "for i in text2:\n",
    "    print(i)"
   ]
  },
  {
   "cell_type": "markdown",
   "id": "b7d1d4d1-5014-4911-92b5-92656bc45465",
   "metadata": {
    "jp-MarkdownHeadingCollapsed": true
   },
   "source": [
    "# methods in spacy"
   ]
  },
  {
   "cell_type": "code",
   "execution_count": 25,
   "id": "a3f1e580-46f1-4c9c-8b8f-ddd9017ca9a4",
   "metadata": {},
   "outputs": [
    {
     "data": {
      "text/plain": [
       "True"
      ]
     },
     "execution_count": 25,
     "metadata": {},
     "output_type": "execute_result"
    }
   ],
   "source": [
    "text2[3].is_alpha"
   ]
  },
  {
   "cell_type": "code",
   "execution_count": 26,
   "id": "ea36b224-f7f5-42a4-8c50-66c9d841f3d0",
   "metadata": {},
   "outputs": [
    {
     "data": {
      "text/plain": [
       "False"
      ]
     },
     "execution_count": 26,
     "metadata": {},
     "output_type": "execute_result"
    }
   ],
   "source": [
    "text2[1].is_alpha"
   ]
  },
  {
   "cell_type": "code",
   "execution_count": 27,
   "id": "328d2f66-c7a4-4ba9-9ac3-b04d2819516a",
   "metadata": {},
   "outputs": [
    {
     "data": {
      "text/plain": [
       "False"
      ]
     },
     "execution_count": 27,
     "metadata": {},
     "output_type": "execute_result"
    }
   ],
   "source": [
    "text2[3].is_digit"
   ]
  },
  {
   "cell_type": "code",
   "execution_count": 28,
   "id": "5799f753-5588-4849-92a5-2e8310d93016",
   "metadata": {},
   "outputs": [
    {
     "data": {
      "text/plain": [
       "'F.Y.'"
      ]
     },
     "execution_count": 28,
     "metadata": {},
     "output_type": "execute_result"
    }
   ],
   "source": [
    "text2[4].text"
   ]
  },
  {
   "cell_type": "code",
   "execution_count": 29,
   "id": "cc5ffba3-d214-478a-90ab-05ea97360e8b",
   "metadata": {},
   "outputs": [
    {
     "data": {
      "text/plain": [
       "F.Y."
      ]
     },
     "execution_count": 29,
     "metadata": {},
     "output_type": "execute_result"
    }
   ],
   "source": [
    "text2[4]"
   ]
  },
  {
   "cell_type": "markdown",
   "id": "aca1729f-c2b9-4980-a8ee-01b9731ef3ee",
   "metadata": {
    "jp-MarkdownHeadingCollapsed": true
   },
   "source": [
    "# Email extraction"
   ]
  },
  {
   "cell_type": "code",
   "execution_count": 30,
   "id": "66756997-f30f-497b-b97f-ad5979c562c8",
   "metadata": {},
   "outputs": [],
   "source": [
    "with open('nlp-assests\\student details.txt', 'r') as f:\n",
    "    text = f.readlines()"
   ]
  },
  {
   "cell_type": "code",
   "execution_count": 31,
   "id": "441a81cd-938c-47b8-9582-10e429ef1613",
   "metadata": {},
   "outputs": [
    {
     "data": {
      "text/plain": [
       "[\"(1, 'Maurits', 'Katte', 20, 'mkatte0@behance.net', 'Senegal', null, 'Computer Science', 2.29, '04/05/2019', 2019, '2023-02-09T16:39:42Z', 1675960782);\\n\",\n",
       " 'ion, recent_activity, recent_activity_unix)\\n',\n",
       " \"(2, 'Adoree', 'Letchford', 30, 'aletchford1@geocities.jp', 'Brazil', '84000-000', 'Physics', 1.95, '05/12/2019', 2019, '2022-10-02T14:20:59Z', 1664720459);\\n\",\n",
       " 'ion, recent_activity, recent_activity_unix)\\n',\n",
       " \"(3, 'Darelle', 'Heckner', 20, 'dheckner2@github.io', 'Canada', 'J9T', 'Marketing', 3.24, '02/09/2015', 2015, '2019-01-27T20:21:02Z', 1548620462);\\n\",\n",
       " 'ion, recent_activity, recent_activity_unix)\\n',\n",
       " \"(4, 'Maureen', 'Ockwell', 30, 'mockwell3@msn.com', 'Russia', '181353', 'Journalism', 0.91, '05/03/2004', 2004, '2007-02-28T02:42:33Z', 1172630553);\\n\",\n",
       " 'ion, recent_activity, recent_activity_unix)\\n',\n",
       " \"(5, 'Abbie', 'Hrus', 29, 'ahrus4@narod.ru', 'Venezuela', null, 'Business Administration', 2.84, '11/02/2016', 2016, '2017-07-17T09:31:00Z', 1500283860);\\n\",\n",
       " 'ion, recent_activity, recent_activity_unix)\\n',\n",
       " \"(6, 'Iorgo', 'Carmichael', 30, 'icarmichael5@myspace.com', 'France', '67200', 'Economics', 3.07, '09/04/2014', 2014, '2017-12-30T07:26:58Z', 1514618818);\\n\",\n",
       " 'ion, recent_activity, recent_activity_unix)\\n',\n",
       " \"(7, 'Janetta', 'Vassall', 23, 'jvassall6@linkedin.com', 'Argentina', '8503', 'Physics', 1.38, '27/08/2012', 2012, '2014-10-10T22:08:17Z', 1412978897);\\n\",\n",
       " 'ion, recent_activity, recent_activity_unix)\\n',\n",
       " \"(8, 'Shani', 'Curedell', 26, 'scuredell7@eventbrite.com', 'China', null, 'Mathematics', 2.73, '20/04/2001', 2001, '2004-08-20T14:57:36Z', 1093013856);\\n\",\n",
       " 'ion, recent_activity, recent_activity_unix)\\n',\n",
       " \"(9, 'Bobbie', 'Joao', 30, 'bjoao8@tripod.com', 'Indonesia', null, 'Biology', 2.15, '12/01/2014', 2014, '2016-05-26T13:07:07Z', 1464268027);\\n\",\n",
       " 'ion, recent_activity, recent_activity_unix)\\n',\n",
       " \"(10, 'Amy', 'Pollok', 22, 'apollok9@barnesandnoble.com', 'Mexico', '43161', 'Physics', 2.24, '10/06/2014', 2014, '2017-03-20T22:17:17Z', 1490048237); into\"]"
      ]
     },
     "execution_count": 31,
     "metadata": {},
     "output_type": "execute_result"
    }
   ],
   "source": [
    "text"
   ]
  },
  {
   "cell_type": "code",
   "execution_count": 52,
   "id": "626fa96b-c32d-41b4-8065-8736085b2d53",
   "metadata": {},
   "outputs": [],
   "source": [
    "text_nlp = nlp(\" \".join(text))\n",
    "email = []\n",
    "for i in text_nlp:\n",
    "    if i.like_email:\n",
    "        email.append(i)"
   ]
  },
  {
   "cell_type": "code",
   "execution_count": 53,
   "id": "cd085956-3808-4ee1-b049-d4a25a4fa2a8",
   "metadata": {},
   "outputs": [
    {
     "data": {
      "text/plain": [
       "[mkatte0@behance.net,\n",
       " aletchford1@geocities.jp,\n",
       " dheckner2@github.io,\n",
       " mockwell3@msn.com,\n",
       " ahrus4@narod.ru,\n",
       " icarmichael5@myspace.com,\n",
       " jvassall6@linkedin.com,\n",
       " scuredell7@eventbrite.com,\n",
       " bjoao8@tripod.com,\n",
       " apollok9@barnesandnoble.com]"
      ]
     },
     "execution_count": 53,
     "metadata": {},
     "output_type": "execute_result"
    }
   ],
   "source": [
    "email"
   ]
  },
  {
   "cell_type": "markdown",
   "id": "ca02c2cb-44d4-47d5-a64d-a3ad658e2ab8",
   "metadata": {
    "jp-MarkdownHeadingCollapsed": true
   },
   "source": [
    "# custom tokenizer"
   ]
  },
  {
   "cell_type": "code",
   "execution_count": 57,
   "id": "56774f4d-61ce-4a62-b4b2-a9cf50faecf0",
   "metadata": {},
   "outputs": [
    {
     "data": {
      "text/plain": [
       "['gimme', 'that', 'book']"
      ]
     },
     "execution_count": 57,
     "metadata": {},
     "output_type": "execute_result"
    }
   ],
   "source": [
    "text = \"gimme that book\"\n",
    "words = [i.text for i in nlp(text)]\n",
    "words"
   ]
  },
  {
   "cell_type": "code",
   "execution_count": 58,
   "id": "8ee5286c-d51b-461f-80f9-4d9df4b6a4ef",
   "metadata": {},
   "outputs": [],
   "source": [
    "from spacy.symbols import ORTH\n",
    "\n",
    "nlp.tokenizer.add_special_case(\"gimme\", [\n",
    "    {ORTH: 'gim'},\n",
    "    {ORTH: 'me'}\n",
    "])"
   ]
  },
  {
   "cell_type": "code",
   "execution_count": 60,
   "id": "23c0a8ed-5069-47ce-bfc3-d6de1a8b654a",
   "metadata": {},
   "outputs": [
    {
     "data": {
      "text/plain": [
       "['gim', 'me', 'that', 'book']"
      ]
     },
     "execution_count": 60,
     "metadata": {},
     "output_type": "execute_result"
    }
   ],
   "source": [
    "words = [i.text for i in nlp(text)]\n",
    "words"
   ]
  },
  {
   "cell_type": "markdown",
   "id": "93439f24-b7c8-43d8-a813-cb2d6b508602",
   "metadata": {
    "jp-MarkdownHeadingCollapsed": true
   },
   "source": [
    "# custom sentence classifier"
   ]
  },
  {
   "cell_type": "code",
   "execution_count": 63,
   "id": "028431ed-477a-4884-9940-132ae1849f51",
   "metadata": {},
   "outputs": [
    {
     "ename": "ValueError",
     "evalue": "[E030] Sentence boundaries unset. You can add the 'sentencizer' component to the pipeline with: `nlp.add_pipe('sentencizer')`. Alternatively, add the dependency parser or sentence recognizer, or set sentence boundaries by setting `doc[i].is_sent_start`.",
     "output_type": "error",
     "traceback": [
      "\u001b[1;31m---------------------------------------------------------------------------\u001b[0m",
      "\u001b[1;31mValueError\u001b[0m                                Traceback (most recent call last)",
      "Cell \u001b[1;32mIn[63], line 3\u001b[0m\n\u001b[0;32m      1\u001b[0m text \u001b[38;5;241m=\u001b[39m \u001b[38;5;124m\"\u001b[39m\u001b[38;5;124mThis is an announcement. He is one of the greatest of greatest in world. He is gonnna change the world\u001b[39m\u001b[38;5;124m\"\u001b[39m\n\u001b[0;32m      2\u001b[0m nlp_text \u001b[38;5;241m=\u001b[39m nlp(text)\n\u001b[1;32m----> 3\u001b[0m \u001b[38;5;28;01mfor\u001b[39;00m i \u001b[38;5;129;01min\u001b[39;00m nlp_text\u001b[38;5;241m.\u001b[39msents:\n\u001b[0;32m      4\u001b[0m     \u001b[38;5;28mprint\u001b[39m(i)\n",
      "File \u001b[1;32m~\\AppData\\Local\\Programs\\Python\\Python310\\lib\\site-packages\\spacy\\tokens\\doc.pyx:926\u001b[0m, in \u001b[0;36msents\u001b[1;34m()\u001b[0m\n",
      "\u001b[1;31mValueError\u001b[0m: [E030] Sentence boundaries unset. You can add the 'sentencizer' component to the pipeline with: `nlp.add_pipe('sentencizer')`. Alternatively, add the dependency parser or sentence recognizer, or set sentence boundaries by setting `doc[i].is_sent_start`."
     ]
    }
   ],
   "source": [
    "text = \"This is an announcement. He is one of the greatest of greatest in world. He is gonnna change the world\"\n",
    "nlp_text = nlp(text)\n",
    "for i in nlp_text.sents:\n",
    "    print(i)"
   ]
  },
  {
   "cell_type": "code",
   "execution_count": 64,
   "id": "7a9c96d3-f93a-496a-9864-927be6445eb1",
   "metadata": {},
   "outputs": [
    {
     "data": {
      "text/plain": [
       "[]"
      ]
     },
     "execution_count": 64,
     "metadata": {},
     "output_type": "execute_result"
    }
   ],
   "source": [
    "nlp.pipe_names"
   ]
  },
  {
   "cell_type": "markdown",
   "id": "ec20663b-67a5-415f-98f6-39fe947713a3",
   "metadata": {},
   "source": [
    "for the above code, we need to define our custom sentence classifier, In spacy.load() method we have default classifier, but in spacy.blank() we need to define"
   ]
  },
  {
   "cell_type": "code",
   "execution_count": 65,
   "id": "b8ef8014-3d2d-4aee-a9a3-7cd491a68666",
   "metadata": {},
   "outputs": [
    {
     "data": {
      "text/plain": [
       "<spacy.pipeline.sentencizer.Sentencizer at 0x1e74f73ff00>"
      ]
     },
     "execution_count": 65,
     "metadata": {},
     "output_type": "execute_result"
    }
   ],
   "source": [
    "nlp.add_pipe('sentencizer')"
   ]
  },
  {
   "cell_type": "code",
   "execution_count": 66,
   "id": "c51ca41b-b068-4bd0-ab3e-3fa2d4c08103",
   "metadata": {},
   "outputs": [
    {
     "data": {
      "text/plain": [
       "['sentencizer']"
      ]
     },
     "execution_count": 66,
     "metadata": {},
     "output_type": "execute_result"
    }
   ],
   "source": [
    "nlp.pipe_names"
   ]
  },
  {
   "cell_type": "code",
   "execution_count": 69,
   "id": "b74d467f-f70d-4dfe-bc84-08e53e0a5e78",
   "metadata": {},
   "outputs": [
    {
     "name": "stdout",
     "output_type": "stream",
     "text": [
      "This is an announcement.\n",
      "He is one of the greatest of greatest in world.\n",
      "He is gonnna change the world\n"
     ]
    }
   ],
   "source": [
    "# but this custom classifier is not much good in classifying sentences.\n",
    "text = \"This is an announcement. He is one of the greatest of greatest in world. He is gonnna change the world\"\n",
    "nlp_text = nlp(text)\n",
    "for i in nlp_text.sents:\n",
    "    print(i)"
   ]
  },
  {
   "cell_type": "markdown",
   "id": "fde142f0-9732-46a4-8c92-15c11fb07187",
   "metadata": {},
   "source": [
    "# Exercise\n"
   ]
  },
  {
   "cell_type": "code",
   "execution_count": 70,
   "id": "3e688b2d-d54d-4390-b82e-2f609c062376",
   "metadata": {},
   "outputs": [],
   "source": [
    "text='''\n",
    "Look for data to help you address the question. Governments are good\n",
    "sources because data from public research is often freely available. Good\n",
    "places to start include http://www.data.gov/, and http://www.science.\n",
    "gov/, and in the United Kingdom, http://data.gov.uk/.\n",
    "Two of my favorite data sets are the General Social Survey at http://www3.norc.org/gss+website/, \n",
    "and the European Social Survey at http://www.europeansocialsurvey.org/.\n",
    "'''\n",
    "word = nlp(text)"
   ]
  },
  {
   "cell_type": "code",
   "execution_count": 73,
   "id": "aa4349eb-e244-4b45-85e8-0689f172a8a5",
   "metadata": {},
   "outputs": [],
   "source": [
    "urls = []\n",
    "for i in word:\n",
    "    if i.like_url:\n",
    "        urls.append(i)"
   ]
  },
  {
   "cell_type": "code",
   "execution_count": 74,
   "id": "2ad0daaa-8c3d-4851-ab42-ec9d419dca6f",
   "metadata": {},
   "outputs": [
    {
     "data": {
      "text/plain": [
       "[http://www.data.gov/,\n",
       " http://www.science,\n",
       " http://data.gov.uk/.,\n",
       " http://www3.norc.org/gss+website/,\n",
       " http://www.europeansocialsurvey.org/.]"
      ]
     },
     "execution_count": 74,
     "metadata": {},
     "output_type": "execute_result"
    }
   ],
   "source": [
    "urls"
   ]
  },
  {
   "cell_type": "code",
   "execution_count": 80,
   "id": "2069e1cb-3339-4bcb-85e9-9fc690d456a4",
   "metadata": {},
   "outputs": [],
   "source": [
    "transactions = \"Tony gave two $ to Peter, Bruce gave 500 € to Steve\"\n",
    "word = nlp(transactions)"
   ]
  },
  {
   "cell_type": "code",
   "execution_count": 94,
   "id": "30ec9874-3732-4204-bd69-237dd6b4c0c6",
   "metadata": {},
   "outputs": [],
   "source": [
    "curren = []\n",
    "for i in range(len(word)-1):\n",
    "    if word[i].like_num and word[i+1].is_currency:\n",
    "        curren.append((word[i], word[i+1]))\n",
    "    "
   ]
  },
  {
   "cell_type": "code",
   "execution_count": 95,
   "id": "7d372bdc-8c81-462e-a5d9-d43533d09e63",
   "metadata": {},
   "outputs": [
    {
     "data": {
      "text/plain": [
       "[(two, $), (500, €)]"
      ]
     },
     "execution_count": 95,
     "metadata": {},
     "output_type": "execute_result"
    }
   ],
   "source": [
    "curren"
   ]
  },
  {
   "cell_type": "code",
   "execution_count": null,
   "id": "ce3f8f00-e6b4-4b10-8222-08e2953b9404",
   "metadata": {},
   "outputs": [],
   "source": []
  }
 ],
 "metadata": {
  "kernelspec": {
   "display_name": "Python 3 (ipykernel)",
   "language": "python",
   "name": "python3"
  },
  "language_info": {
   "codemirror_mode": {
    "name": "ipython",
    "version": 3
   },
   "file_extension": ".py",
   "mimetype": "text/x-python",
   "name": "python",
   "nbconvert_exporter": "python",
   "pygments_lexer": "ipython3",
   "version": "3.10.10"
  },
  "widgets": {
   "application/vnd.jupyter.widget-state+json": {
    "state": {},
    "version_major": 2,
    "version_minor": 0
   }
  }
 },
 "nbformat": 4,
 "nbformat_minor": 5
}
