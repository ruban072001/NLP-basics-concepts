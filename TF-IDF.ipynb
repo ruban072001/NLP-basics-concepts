{
 "cells": [
  {
   "cell_type": "code",
   "execution_count": 1,
   "id": "57d3350b-72aa-4690-ade0-d6d787342a79",
   "metadata": {},
   "outputs": [],
   "source": [
    "from sklearn.feature_extraction.text import TfidfVectorizer"
   ]
  },
  {
   "cell_type": "code",
   "execution_count": 2,
   "id": "df65e313-24a4-4aff-af19-e8013e20c131",
   "metadata": {},
   "outputs": [],
   "source": [
    "corpus = [\n",
    "    'X users flock to Bluesky: What sets it apart and how to sign up',\n",
    "    'Elon Musk wants ‘high-IQ’ staff to work 80 hours at zero pay for newly-formed DOGE',\n",
    "    'iPhone not showing notifications after iOS 18 update? Here are 10 ways to fix them',\n",
    "    'OpenAI makes ChatGPT desktop app for Windows available to free users',\n",
    "    'You are a burden. Please die’: AI chatbot threatens student who sought help with homework',\n",
    "    'Samsung’s rumoured Huawei tri-fold competitor may fold inwards: Here’s what we know so far'\n",
    "]"
   ]
  },
  {
   "cell_type": "code",
   "execution_count": 5,
   "id": "d763e2ce-12ed-4369-9536-8a23106f82b1",
   "metadata": {},
   "outputs": [
    {
     "name": "stdout",
     "output_type": "stream",
     "text": [
      "{'users': 64, 'flock': 22, 'to': 60, 'bluesky': 11, 'what': 68, 'sets': 51, 'it': 38, 'apart': 6, 'and': 5, 'how': 32, 'sign': 53, 'up': 62, 'elon': 19, 'musk': 42, 'wants': 65, 'high': 29, 'iq': 37, 'staff': 56, 'work': 72, '80': 2, 'hours': 31, 'at': 9, 'zero': 74, 'pay': 47, 'for': 24, 'newly': 43, 'formed': 25, 'doge': 18, 'iphone': 36, 'not': 44, 'showing': 52, 'notifications': 45, 'after': 3, 'ios': 35, '18': 1, 'update': 63, 'here': 28, 'are': 8, '10': 0, 'ways': 66, 'fix': 21, 'them': 58, 'openai': 46, 'makes': 40, 'chatgpt': 14, 'desktop': 16, 'app': 7, 'windows': 70, 'available': 10, 'free': 26, 'you': 73, 'burden': 12, 'please': 48, 'die': 17, 'ai': 4, 'chatbot': 13, 'threatens': 59, 'student': 57, 'who': 69, 'sought': 55, 'help': 27, 'with': 71, 'homework': 30, 'samsung': 50, 'rumoured': 49, 'huawei': 33, 'tri': 61, 'fold': 23, 'competitor': 15, 'may': 41, 'inwards': 34, 'we': 67, 'know': 39, 'so': 54, 'far': 20}\n"
     ]
    }
   ],
   "source": [
    "v = TfidfVectorizer()\n",
    "trans = v.fit_transform(corpus)\n",
    "print(v.vocabulary_)"
   ]
  },
  {
   "cell_type": "code",
   "execution_count": 13,
   "id": "eb37c787-3888-4322-9b26-a20adf91ac8b",
   "metadata": {},
   "outputs": [
    {
     "data": {
      "text/plain": [
       "np.float64(0.34610360255652334)"
      ]
     },
     "execution_count": 13,
     "metadata": {},
     "output_type": "execute_result"
    }
   ],
   "source": [
    "trans.toarray()[0][60]"
   ]
  },
  {
   "cell_type": "code",
   "execution_count": 26,
   "id": "43d5274f-02f8-405a-9d70-28bd1ed8c985",
   "metadata": {},
   "outputs": [],
   "source": [
    "li = []\n",
    "for i in v.get_feature_names_out():\n",
    "    idx = v.vocabulary_[i]\n",
    "    li.append([i, str(v.idf_[idx])])"
   ]
  },
  {
   "cell_type": "code",
   "execution_count": 27,
   "id": "3f46438e-11c4-4f3c-95b2-633142729c9e",
   "metadata": {},
   "outputs": [
    {
     "name": "stdout",
     "output_type": "stream",
     "text": [
      "[['10', '2.252762968495368'], ['18', '2.252762968495368'], ['80', '2.252762968495368'], ['after', '2.252762968495368'], ['ai', '2.252762968495368'], ['and', '2.252762968495368'], ['apart', '2.252762968495368'], ['app', '2.252762968495368'], ['are', '1.8472978603872037'], ['at', '2.252762968495368'], ['available', '2.252762968495368'], ['bluesky', '2.252762968495368'], ['burden', '2.252762968495368'], ['chatbot', '2.252762968495368'], ['chatgpt', '2.252762968495368'], ['competitor', '2.252762968495368'], ['desktop', '2.252762968495368'], ['die', '2.252762968495368'], ['doge', '2.252762968495368'], ['elon', '2.252762968495368'], ['far', '2.252762968495368'], ['fix', '2.252762968495368'], ['flock', '2.252762968495368'], ['fold', '2.252762968495368'], ['for', '1.8472978603872037'], ['formed', '2.252762968495368'], ['free', '2.252762968495368'], ['help', '2.252762968495368'], ['here', '1.8472978603872037'], ['high', '2.252762968495368'], ['homework', '2.252762968495368'], ['hours', '2.252762968495368'], ['how', '2.252762968495368'], ['huawei', '2.252762968495368'], ['inwards', '2.252762968495368'], ['ios', '2.252762968495368'], ['iphone', '2.252762968495368'], ['iq', '2.252762968495368'], ['it', '2.252762968495368'], ['know', '2.252762968495368'], ['makes', '2.252762968495368'], ['may', '2.252762968495368'], ['musk', '2.252762968495368'], ['newly', '2.252762968495368'], ['not', '2.252762968495368'], ['notifications', '2.252762968495368'], ['openai', '2.252762968495368'], ['pay', '2.252762968495368'], ['please', '2.252762968495368'], ['rumoured', '2.252762968495368'], ['samsung', '2.252762968495368'], ['sets', '2.252762968495368'], ['showing', '2.252762968495368'], ['sign', '2.252762968495368'], ['so', '2.252762968495368'], ['sought', '2.252762968495368'], ['staff', '2.252762968495368'], ['student', '2.252762968495368'], ['them', '2.252762968495368'], ['threatens', '2.252762968495368'], ['to', '1.336472236621213'], ['tri', '2.252762968495368'], ['up', '2.252762968495368'], ['update', '2.252762968495368'], ['users', '1.8472978603872037'], ['wants', '2.252762968495368'], ['ways', '2.252762968495368'], ['we', '2.252762968495368'], ['what', '1.8472978603872037'], ['who', '2.252762968495368'], ['windows', '2.252762968495368'], ['with', '2.252762968495368'], ['work', '2.252762968495368'], ['you', '2.252762968495368'], ['zero', '2.252762968495368']]\n"
     ]
    }
   ],
   "source": [
    "print(li)"
   ]
  },
  {
   "cell_type": "code",
   "execution_count": 28,
   "id": "bb2952f9-e5d9-4245-bf16-0260cc925f1a",
   "metadata": {},
   "outputs": [
    {
     "data": {
      "text/plain": [
       "np.float64(2.252762968495368)"
      ]
     },
     "execution_count": 28,
     "metadata": {},
     "output_type": "execute_result"
    }
   ],
   "source": [
    "v.idf_[50]"
   ]
  },
  {
   "cell_type": "code",
   "execution_count": 29,
   "id": "b1c29a97-e65f-4da7-a14f-c9fbf7af7878",
   "metadata": {},
   "outputs": [],
   "source": [
    "import pandas as pd"
   ]
  },
  {
   "cell_type": "code",
   "execution_count": 30,
   "id": "bb838854-578e-4e8c-bec5-0712884e3071",
   "metadata": {},
   "outputs": [],
   "source": [
    "df = pd.read_csv(r\"C:\\Users\\KIRUBA\\Downloads\\ecommerceDataset.csv\\ecommerceDataset.csv\")"
   ]
  },
  {
   "cell_type": "code",
   "execution_count": 32,
   "id": "04f312eb-6508-4e98-bf9e-b09e356557bd",
   "metadata": {},
   "outputs": [
    {
     "data": {
      "text/html": [
       "<div>\n",
       "<style scoped>\n",
       "    .dataframe tbody tr th:only-of-type {\n",
       "        vertical-align: middle;\n",
       "    }\n",
       "\n",
       "    .dataframe tbody tr th {\n",
       "        vertical-align: top;\n",
       "    }\n",
       "\n",
       "    .dataframe thead th {\n",
       "        text-align: right;\n",
       "    }\n",
       "</style>\n",
       "<table border=\"1\" class=\"dataframe\">\n",
       "  <thead>\n",
       "    <tr style=\"text-align: right;\">\n",
       "      <th></th>\n",
       "      <th>Household</th>\n",
       "      <th>Paper Plane Design Framed Wall Hanging Motivational Office Decor Art Prints (8.7 X 8.7 inch) - Set of 4 Painting made up in synthetic frame with uv textured print which gives multi effects and attracts towards it. This is an special series of paintings which makes your wall very beautiful and gives a royal touch. This painting is ready to hang, you would be proud to possess this unique painting that is a niche apart. We use only the most modern and efficient printing technology on our prints, with only the and inks and precision epson, roland and hp printers. This innovative hd printing technique results in durable and spectacular looking prints of the highest that last a lifetime. We print solely with top-notch 100% inks, to achieve brilliant and true colours. Due to their high level of uv resistance, our prints retain their beautiful colours for many years. Add colour and style to your living space with this digitally printed painting. Some are for pleasure and some for eternal bliss.so bring home this elegant print that is lushed with rich colors that makes it nothing but sheer elegance to be to your friends and family.it would be treasured forever by whoever your lucky recipient is. Liven up your place with these intriguing paintings that are high definition hd graphic digital prints for home, office or any room.</th>\n",
       "    </tr>\n",
       "  </thead>\n",
       "  <tbody>\n",
       "    <tr>\n",
       "      <th>0</th>\n",
       "      <td>Household</td>\n",
       "      <td>SAF 'Floral' Framed Painting (Wood, 30 inch x ...</td>\n",
       "    </tr>\n",
       "    <tr>\n",
       "      <th>1</th>\n",
       "      <td>Household</td>\n",
       "      <td>SAF 'UV Textured Modern Art Print Framed' Pain...</td>\n",
       "    </tr>\n",
       "    <tr>\n",
       "      <th>2</th>\n",
       "      <td>Household</td>\n",
       "      <td>SAF Flower Print Framed Painting (Synthetic, 1...</td>\n",
       "    </tr>\n",
       "    <tr>\n",
       "      <th>3</th>\n",
       "      <td>Household</td>\n",
       "      <td>Incredible Gifts India Wooden Happy Birthday U...</td>\n",
       "    </tr>\n",
       "    <tr>\n",
       "      <th>4</th>\n",
       "      <td>Household</td>\n",
       "      <td>Pitaara Box Romantic Venice Canvas Painting 6m...</td>\n",
       "    </tr>\n",
       "  </tbody>\n",
       "</table>\n",
       "</div>"
      ],
      "text/plain": [
       "   Household Paper Plane Design Framed Wall Hanging Motivational Office Decor Art Prints (8.7 X 8.7 inch) - Set of 4 Painting made up in synthetic frame with uv textured print which gives multi effects and attracts towards it. This is an special series of paintings which makes your wall very beautiful and gives a royal touch. This painting is ready to hang, you would be proud to possess this unique painting that is a niche apart. We use only the most modern and efficient printing technology on our prints, with only the and inks and precision epson, roland and hp printers. This innovative hd printing technique results in durable and spectacular looking prints of the highest that last a lifetime. We print solely with top-notch 100% inks, to achieve brilliant and true colours. Due to their high level of uv resistance, our prints retain their beautiful colours for many years. Add colour and style to your living space with this digitally printed painting. Some are for pleasure and some for eternal bliss.so bring home this elegant print that is lushed with rich colors that makes it nothing but sheer elegance to be to your friends and family.it would be treasured forever by whoever your lucky recipient is. Liven up your place with these intriguing paintings that are high definition hd graphic digital prints for home, office or any room.\n",
       "0  Household  SAF 'Floral' Framed Painting (Wood, 30 inch x ...                                                                                                                                                                                                                                                                                                                                                                                                                                                                                                                                                                                                                                                                                                                                                                                                                                                                                                                                                                                                                                                                                                                                                                                                                                                                                                                                        \n",
       "1  Household  SAF 'UV Textured Modern Art Print Framed' Pain...                                                                                                                                                                                                                                                                                                                                                                                                                                                                                                                                                                                                                                                                                                                                                                                                                                                                                                                                                                                                                                                                                                                                                                                                                                                                                                                                        \n",
       "2  Household  SAF Flower Print Framed Painting (Synthetic, 1...                                                                                                                                                                                                                                                                                                                                                                                                                                                                                                                                                                                                                                                                                                                                                                                                                                                                                                                                                                                                                                                                                                                                                                                                                                                                                                                                        \n",
       "3  Household  Incredible Gifts India Wooden Happy Birthday U...                                                                                                                                                                                                                                                                                                                                                                                                                                                                                                                                                                                                                                                                                                                                                                                                                                                                                                                                                                                                                                                                                                                                                                                                                                                                                                                                        \n",
       "4  Household  Pitaara Box Romantic Venice Canvas Painting 6m...                                                                                                                                                                                                                                                                                                                                                                                                                                                                                                                                                                                                                                                                                                                                                                                                                                                                                                                                                                                                                                                                                                                                                                                                                                                                                                                                        "
      ]
     },
     "execution_count": 32,
     "metadata": {},
     "output_type": "execute_result"
    }
   ],
   "source": [
    "df.head()"
   ]
  },
  {
   "cell_type": "code",
   "execution_count": 33,
   "id": "39b88016-cfe4-4ec6-be87-bfe968bb9e80",
   "metadata": {},
   "outputs": [
    {
     "data": {
      "text/plain": [
       "(50424, 2)"
      ]
     },
     "execution_count": 33,
     "metadata": {},
     "output_type": "execute_result"
    }
   ],
   "source": [
    "df.shape"
   ]
  },
  {
   "cell_type": "code",
   "execution_count": 36,
   "id": "87f3d8d7-ebac-4adc-926c-2886f5bef9ee",
   "metadata": {},
   "outputs": [],
   "source": [
    "df.rename(columns = {'Paper Plane Design Framed Wall Hanging Motivational Office Decor Art Prints (8.7 X 8.7 inch) - Set of 4 Painting made up in synthetic frame with uv textured print which gives multi effects and attracts towards it. This is an special series of paintings which makes your wall very beautiful and gives a royal touch. This painting is ready to hang, you would be proud to possess this unique painting that is a niche apart. We use only the most modern and efficient printing technology on our prints, with only the and inks and precision epson, roland and hp printers. This innovative hd printing technique results in durable and spectacular looking prints of the highest that last a lifetime. We print solely with top-notch 100% inks, to achieve brilliant and true colours. Due to their high level of uv resistance, our prints retain their beautiful colours for many years. Add colour and style to your living space with this digitally printed painting. Some are for pleasure and some for eternal bliss.so bring home this elegant print that is lushed with rich colors that makes it nothing but sheer elegance to be to your friends and family.it would be treasured forever by whoever your lucky recipient is. Liven up your place with these intriguing paintings that are high definition hd graphic digital prints for home, office or any room.':'description', 'Household':'cate'}, inplace=True)"
   ]
  },
  {
   "cell_type": "code",
   "execution_count": 37,
   "id": "c5260ae7-276a-41c8-b3e5-19e079c8ee7b",
   "metadata": {},
   "outputs": [
    {
     "data": {
      "text/html": [
       "<div>\n",
       "<style scoped>\n",
       "    .dataframe tbody tr th:only-of-type {\n",
       "        vertical-align: middle;\n",
       "    }\n",
       "\n",
       "    .dataframe tbody tr th {\n",
       "        vertical-align: top;\n",
       "    }\n",
       "\n",
       "    .dataframe thead th {\n",
       "        text-align: right;\n",
       "    }\n",
       "</style>\n",
       "<table border=\"1\" class=\"dataframe\">\n",
       "  <thead>\n",
       "    <tr style=\"text-align: right;\">\n",
       "      <th></th>\n",
       "      <th>cate</th>\n",
       "      <th>description</th>\n",
       "    </tr>\n",
       "  </thead>\n",
       "  <tbody>\n",
       "    <tr>\n",
       "      <th>0</th>\n",
       "      <td>Household</td>\n",
       "      <td>SAF 'Floral' Framed Painting (Wood, 30 inch x ...</td>\n",
       "    </tr>\n",
       "    <tr>\n",
       "      <th>1</th>\n",
       "      <td>Household</td>\n",
       "      <td>SAF 'UV Textured Modern Art Print Framed' Pain...</td>\n",
       "    </tr>\n",
       "    <tr>\n",
       "      <th>2</th>\n",
       "      <td>Household</td>\n",
       "      <td>SAF Flower Print Framed Painting (Synthetic, 1...</td>\n",
       "    </tr>\n",
       "    <tr>\n",
       "      <th>3</th>\n",
       "      <td>Household</td>\n",
       "      <td>Incredible Gifts India Wooden Happy Birthday U...</td>\n",
       "    </tr>\n",
       "    <tr>\n",
       "      <th>4</th>\n",
       "      <td>Household</td>\n",
       "      <td>Pitaara Box Romantic Venice Canvas Painting 6m...</td>\n",
       "    </tr>\n",
       "    <tr>\n",
       "      <th>...</th>\n",
       "      <td>...</td>\n",
       "      <td>...</td>\n",
       "    </tr>\n",
       "    <tr>\n",
       "      <th>50419</th>\n",
       "      <td>Electronics</td>\n",
       "      <td>Strontium MicroSD Class 10 8GB Memory Card (Bl...</td>\n",
       "    </tr>\n",
       "    <tr>\n",
       "      <th>50420</th>\n",
       "      <td>Electronics</td>\n",
       "      <td>CrossBeats Wave Waterproof Bluetooth Wireless ...</td>\n",
       "    </tr>\n",
       "    <tr>\n",
       "      <th>50421</th>\n",
       "      <td>Electronics</td>\n",
       "      <td>Karbonn Titanium Wind W4 (White) Karbonn Titan...</td>\n",
       "    </tr>\n",
       "    <tr>\n",
       "      <th>50422</th>\n",
       "      <td>Electronics</td>\n",
       "      <td>Samsung Guru FM Plus (SM-B110E/D, Black) Colou...</td>\n",
       "    </tr>\n",
       "    <tr>\n",
       "      <th>50423</th>\n",
       "      <td>Electronics</td>\n",
       "      <td>Micromax Canvas Win W121 (White)</td>\n",
       "    </tr>\n",
       "  </tbody>\n",
       "</table>\n",
       "<p>50424 rows × 2 columns</p>\n",
       "</div>"
      ],
      "text/plain": [
       "              cate                                        description\n",
       "0        Household  SAF 'Floral' Framed Painting (Wood, 30 inch x ...\n",
       "1        Household  SAF 'UV Textured Modern Art Print Framed' Pain...\n",
       "2        Household  SAF Flower Print Framed Painting (Synthetic, 1...\n",
       "3        Household  Incredible Gifts India Wooden Happy Birthday U...\n",
       "4        Household  Pitaara Box Romantic Venice Canvas Painting 6m...\n",
       "...            ...                                                ...\n",
       "50419  Electronics  Strontium MicroSD Class 10 8GB Memory Card (Bl...\n",
       "50420  Electronics  CrossBeats Wave Waterproof Bluetooth Wireless ...\n",
       "50421  Electronics  Karbonn Titanium Wind W4 (White) Karbonn Titan...\n",
       "50422  Electronics  Samsung Guru FM Plus (SM-B110E/D, Black) Colou...\n",
       "50423  Electronics                   Micromax Canvas Win W121 (White)\n",
       "\n",
       "[50424 rows x 2 columns]"
      ]
     },
     "execution_count": 37,
     "metadata": {},
     "output_type": "execute_result"
    }
   ],
   "source": [
    "df"
   ]
  },
  {
   "cell_type": "code",
   "execution_count": 40,
   "id": "efaea411-aca7-4288-97e3-4e722118ed94",
   "metadata": {},
   "outputs": [
    {
     "data": {
      "text/plain": [
       "cate\n",
       "Household                 19312\n",
       "Books                     11820\n",
       "Electronics               10621\n",
       "Clothing & Accessories     8671\n",
       "Name: count, dtype: int64"
      ]
     },
     "execution_count": 40,
     "metadata": {},
     "output_type": "execute_result"
    }
   ],
   "source": [
    "df['cate'].value_counts()"
   ]
  },
  {
   "cell_type": "code",
   "execution_count": 41,
   "id": "57191030-0d54-45fe-9e35-8706622b68aa",
   "metadata": {},
   "outputs": [],
   "source": [
    "df1 = df[df['cate'] == 'Household'].sample(500)\n",
    "df2 = df[df['cate'] == 'Books'].sample(500)\n",
    "df3 = df[df['cate'] == 'Electronics'].sample(500)\n",
    "df4 = df[df['cate'] == 'Clothing & Accessories'].sample(500)"
   ]
  },
  {
   "cell_type": "code",
   "execution_count": 42,
   "id": "d37a4500-f8bc-42ac-8b5e-3a0872baf62e",
   "metadata": {},
   "outputs": [],
   "source": [
    "df = pd.concat([df1, df2, df3, df4], axis = 'rows', ignore_index=True)"
   ]
  },
  {
   "cell_type": "code",
   "execution_count": 43,
   "id": "6fbfcc9e-bfa3-4f1d-8be1-9759fd1be6b6",
   "metadata": {},
   "outputs": [
    {
     "data": {
      "text/plain": [
       "(2000, 2)"
      ]
     },
     "execution_count": 43,
     "metadata": {},
     "output_type": "execute_result"
    }
   ],
   "source": [
    "df.shape"
   ]
  },
  {
   "cell_type": "code",
   "execution_count": 44,
   "id": "f33b7e9e-c46b-45ba-abda-6e60e66b59c8",
   "metadata": {},
   "outputs": [],
   "source": [
    "df['cat_num'] = df['cate'].map({\n",
    "    'Household':0,\n",
    "    'Books':1,\n",
    "    'Electronics':2,\n",
    "    'Clothing & Accessories':3\n",
    "})"
   ]
  },
  {
   "cell_type": "code",
   "execution_count": 46,
   "id": "c44724c3-c609-4272-97d7-d206f945e38f",
   "metadata": {},
   "outputs": [
    {
     "data": {
      "text/html": [
       "<div>\n",
       "<style scoped>\n",
       "    .dataframe tbody tr th:only-of-type {\n",
       "        vertical-align: middle;\n",
       "    }\n",
       "\n",
       "    .dataframe tbody tr th {\n",
       "        vertical-align: top;\n",
       "    }\n",
       "\n",
       "    .dataframe thead th {\n",
       "        text-align: right;\n",
       "    }\n",
       "</style>\n",
       "<table border=\"1\" class=\"dataframe\">\n",
       "  <thead>\n",
       "    <tr style=\"text-align: right;\">\n",
       "      <th></th>\n",
       "      <th>cate</th>\n",
       "      <th>description</th>\n",
       "      <th>cat_num</th>\n",
       "    </tr>\n",
       "  </thead>\n",
       "  <tbody>\n",
       "    <tr>\n",
       "      <th>1626</th>\n",
       "      <td>Clothing &amp; Accessories</td>\n",
       "      <td>Scott Women's Premium Cotton Pullover Hoodie S...</td>\n",
       "      <td>3</td>\n",
       "    </tr>\n",
       "    <tr>\n",
       "      <th>1202</th>\n",
       "      <td>Electronics</td>\n",
       "      <td>Cosmic Byte H3 Gaming Headphone with Mic for P...</td>\n",
       "      <td>2</td>\n",
       "    </tr>\n",
       "    <tr>\n",
       "      <th>299</th>\n",
       "      <td>Household</td>\n",
       "      <td>Eveready OFR11FB 2900-Watt Oil Filled Radiator...</td>\n",
       "      <td>0</td>\n",
       "    </tr>\n",
       "    <tr>\n",
       "      <th>1937</th>\n",
       "      <td>Clothing &amp; Accessories</td>\n",
       "      <td>Uri and MacKenzie Men's Silk Blend Kurta Pyjam...</td>\n",
       "      <td>3</td>\n",
       "    </tr>\n",
       "    <tr>\n",
       "      <th>234</th>\n",
       "      <td>Household</td>\n",
       "      <td>Iris Jasmine Oil Potpourri Spray (3.5 cm x 3.5...</td>\n",
       "      <td>0</td>\n",
       "    </tr>\n",
       "  </tbody>\n",
       "</table>\n",
       "</div>"
      ],
      "text/plain": [
       "                        cate                                        description  cat_num\n",
       "1626  Clothing & Accessories  Scott Women's Premium Cotton Pullover Hoodie S...        3\n",
       "1202             Electronics  Cosmic Byte H3 Gaming Headphone with Mic for P...        2\n",
       "299                Household  Eveready OFR11FB 2900-Watt Oil Filled Radiator...        0\n",
       "1937  Clothing & Accessories  Uri and MacKenzie Men's Silk Blend Kurta Pyjam...        3\n",
       "234                Household  Iris Jasmine Oil Potpourri Spray (3.5 cm x 3.5...        0"
      ]
     },
     "execution_count": 46,
     "metadata": {},
     "output_type": "execute_result"
    }
   ],
   "source": [
    "df.sample(5)"
   ]
  },
  {
   "cell_type": "code",
   "execution_count": 47,
   "id": "2c369ba7-e1cc-4253-a342-01846e4ce0a7",
   "metadata": {},
   "outputs": [],
   "source": [
    "from sklearn.model_selection import train_test_split\n",
    "\n",
    "x_train, x_test, y_train, y_test = train_test_split(df['description'], df['cat_num'], test_size=0.2, random_state=90, stratify=df['cat_num'])"
   ]
  },
  {
   "cell_type": "code",
   "execution_count": 48,
   "id": "1edd17cd-1764-4f92-a7df-e387e12e5754",
   "metadata": {},
   "outputs": [
    {
     "data": {
      "text/plain": [
       "cat_num\n",
       "3    400\n",
       "1    400\n",
       "0    400\n",
       "2    400\n",
       "Name: count, dtype: int64"
      ]
     },
     "execution_count": 48,
     "metadata": {},
     "output_type": "execute_result"
    }
   ],
   "source": [
    "y_train.value_counts()"
   ]
  },
  {
   "cell_type": "code",
   "execution_count": 49,
   "id": "375dacdc-dd08-48d8-b16a-f6ac0696080c",
   "metadata": {},
   "outputs": [
    {
     "data": {
      "text/plain": [
       "cat_num\n",
       "0    100\n",
       "2    100\n",
       "1    100\n",
       "3    100\n",
       "Name: count, dtype: int64"
      ]
     },
     "execution_count": 49,
     "metadata": {},
     "output_type": "execute_result"
    }
   ],
   "source": [
    "y_test.value_counts()"
   ]
  },
  {
   "cell_type": "code",
   "execution_count": 50,
   "id": "ae998dbe-0b82-4931-952e-28831d8914bb",
   "metadata": {},
   "outputs": [],
   "source": [
    "from sklearn.pipeline import Pipeline\n",
    "from sklearn.svm import SVC\n",
    "from sklearn.neighbors import KNeighborsClassifier"
   ]
  },
  {
   "cell_type": "code",
   "execution_count": 60,
   "id": "2e06d67f-fe2f-4d38-b63a-3a592d553a2f",
   "metadata": {},
   "outputs": [
    {
     "data": {
      "text/plain": [
       "0.925"
      ]
     },
     "execution_count": 60,
     "metadata": {},
     "output_type": "execute_result"
    }
   ],
   "source": [
    "clf = Pipeline([\n",
    "    ('idf', TfidfVectorizer()),\n",
    "    ('svc', SVC())\n",
    "])\n",
    "clf.fit(x_train, y_train)\n",
    "clf.score(x_test, y_test)"
   ]
  },
  {
   "cell_type": "code",
   "execution_count": 61,
   "id": "d6d416ec-1ebc-472a-af64-cf34d6aaba70",
   "metadata": {},
   "outputs": [
    {
     "data": {
      "text/plain": [
       "0.905"
      ]
     },
     "execution_count": 61,
     "metadata": {},
     "output_type": "execute_result"
    }
   ],
   "source": [
    "clf1 = Pipeline([\n",
    "    ('idf', TfidfVectorizer()),\n",
    "    ('svc', KNeighborsClassifier())\n",
    "])\n",
    "clf1.fit(x_train, y_train)\n",
    "clf1.score(x_test, y_test)"
   ]
  },
  {
   "cell_type": "code",
   "execution_count": 62,
   "id": "8ec99140-4863-4a85-ae8c-4e3f32e59685",
   "metadata": {},
   "outputs": [],
   "source": [
    "from sklearn.metrics import classification_report, confusion_matrix"
   ]
  },
  {
   "cell_type": "code",
   "execution_count": 63,
   "id": "06a140b9-03f9-44de-af2f-637e47a77895",
   "metadata": {},
   "outputs": [
    {
     "name": "stdout",
     "output_type": "stream",
     "text": [
      "              precision    recall  f1-score   support\n",
      "\n",
      "           0       0.83      0.95      0.88       100\n",
      "           1       0.97      0.90      0.93       100\n",
      "           2       0.94      0.89      0.91       100\n",
      "           3       0.99      0.96      0.97       100\n",
      "\n",
      "    accuracy                           0.93       400\n",
      "   macro avg       0.93      0.93      0.93       400\n",
      "weighted avg       0.93      0.93      0.93       400\n",
      "\n"
     ]
    }
   ],
   "source": [
    "print(classification_report(y_test, clf.predict(x_test)))"
   ]
  },
  {
   "cell_type": "code",
   "execution_count": 64,
   "id": "1c84ea63-8237-43c0-9f67-40d0d3366f76",
   "metadata": {},
   "outputs": [
    {
     "name": "stdout",
     "output_type": "stream",
     "text": [
      "              precision    recall  f1-score   support\n",
      "\n",
      "           0       0.85      0.88      0.87       100\n",
      "           1       0.89      0.91      0.90       100\n",
      "           2       0.91      0.85      0.88       100\n",
      "           3       0.96      0.98      0.97       100\n",
      "\n",
      "    accuracy                           0.91       400\n",
      "   macro avg       0.91      0.91      0.90       400\n",
      "weighted avg       0.91      0.91      0.90       400\n",
      "\n"
     ]
    }
   ],
   "source": [
    "print(classification_report(y_test, clf1.predict(x_test)))"
   ]
  },
  {
   "cell_type": "code",
   "execution_count": 66,
   "id": "0aa32c6d-fd60-4c51-8880-6caa188ba210",
   "metadata": {},
   "outputs": [],
   "source": [
    "cm = confusion_matrix(y_test, clf.predict(x_test))\n",
    "cm1 = confusion_matrix(y_test, clf1.predict(x_test))"
   ]
  },
  {
   "cell_type": "code",
   "execution_count": 68,
   "id": "deb9f00e-7e09-40e5-b4b2-cd2ccccaf65c",
   "metadata": {},
   "outputs": [
    {
     "data": {
      "text/plain": [
       "Text(50.722222222222214, 0.5, 'truth')"
      ]
     },
     "execution_count": 68,
     "metadata": {},
     "output_type": "execute_result"
    },
    {
     "data": {
      "image/png": "[encoded data removed]",
      "text/plain": [
       "<Figure size 640x480 with 2 Axes>"
      ]
     },
     "metadata": {},
     "output_type": "display_data"
    }
   ],
   "source": [
    "import seaborn as sns\n",
    "import matplotlib.pyplot as plt\n",
    "%matplotlib inline\n",
    "sns.heatmap(cm, annot=True)\n",
    "plt.xlabel('prediction')\n",
    "plt.ylabel('truth')"
   ]
  },
  {
   "cell_type": "code",
   "execution_count": 69,
   "id": "80d90819-fe39-4875-a81c-41dcd64f9231",
   "metadata": {},
   "outputs": [
    {
     "data": {
      "text/plain": [
       "Text(50.722222222222214, 0.5, 'truth')"
      ]
     },
     "execution_count": 69,
     "metadata": {},
     "output_type": "execute_result"
    },
    {
     "data": {
      "image/png": "[encoded data removed]",
      "text/plain": [
       "<Figure size 640x480 with 2 Axes>"
      ]
     },
     "metadata": {},
     "output_type": "display_data"
    }
   ],
   "source": [
    "sns.heatmap(cm1, annot=True)\n",
    "plt.xlabel('prediction')\n",
    "plt.ylabel('truth')"
   ]
  },
  {
   "cell_type": "markdown",
   "id": "855d2a11-151b-43ad-a290-217b5967c4f7",
   "metadata": {},
   "source": [
    "# Exercise"
   ]
  },
  {
   "cell_type": "code",
   "execution_count": 1,
   "id": "5fc9f283-9f00-4760-ad8e-1ceeed3c176f",
   "metadata": {},
   "outputs": [],
   "source": [
    "import pandas as pd"
   ]
  },
  {
   "cell_type": "code",
   "execution_count": 9,
   "id": "534395ab-d1d4-4a48-bf9d-e601248ab330",
   "metadata": {},
   "outputs": [],
   "source": [
    "df = pd.read_csv(r\"C:\\Users\\KIRUBA\\Downloads\\train.txt\\train.txt\", sep=\";\", names = ['text', 'sentiment'])"
   ]
  },
  {
   "cell_type": "code",
   "execution_count": 10,
   "id": "0858b1bf-c4e1-4505-ab7c-af99953e81b9",
   "metadata": {},
   "outputs": [
    {
     "data": {
      "text/html": [
       "<div>\n",
       "<style scoped>\n",
       "    .dataframe tbody tr th:only-of-type {\n",
       "        vertical-align: middle;\n",
       "    }\n",
       "\n",
       "    .dataframe tbody tr th {\n",
       "        vertical-align: top;\n",
       "    }\n",
       "\n",
       "    .dataframe thead th {\n",
       "        text-align: right;\n",
       "    }\n",
       "</style>\n",
       "<table border=\"1\" class=\"dataframe\">\n",
       "  <thead>\n",
       "    <tr style=\"text-align: right;\">\n",
       "      <th></th>\n",
       "      <th>text</th>\n",
       "      <th>sentiment</th>\n",
       "    </tr>\n",
       "  </thead>\n",
       "  <tbody>\n",
       "    <tr>\n",
       "      <th>0</th>\n",
       "      <td>i didnt feel humiliated</td>\n",
       "      <td>sadness</td>\n",
       "    </tr>\n",
       "    <tr>\n",
       "      <th>1</th>\n",
       "      <td>i can go from feeling so hopeless to so damned...</td>\n",
       "      <td>sadness</td>\n",
       "    </tr>\n",
       "    <tr>\n",
       "      <th>2</th>\n",
       "      <td>im grabbing a minute to post i feel greedy wrong</td>\n",
       "      <td>anger</td>\n",
       "    </tr>\n",
       "    <tr>\n",
       "      <th>3</th>\n",
       "      <td>i am ever feeling nostalgic about the fireplac...</td>\n",
       "      <td>love</td>\n",
       "    </tr>\n",
       "    <tr>\n",
       "      <th>4</th>\n",
       "      <td>i am feeling grouchy</td>\n",
       "      <td>anger</td>\n",
       "    </tr>\n",
       "    <tr>\n",
       "      <th>...</th>\n",
       "      <td>...</td>\n",
       "      <td>...</td>\n",
       "    </tr>\n",
       "    <tr>\n",
       "      <th>15995</th>\n",
       "      <td>i just had a very brief time in the beanbag an...</td>\n",
       "      <td>sadness</td>\n",
       "    </tr>\n",
       "    <tr>\n",
       "      <th>15996</th>\n",
       "      <td>i am now turning and i feel pathetic that i am...</td>\n",
       "      <td>sadness</td>\n",
       "    </tr>\n",
       "    <tr>\n",
       "      <th>15997</th>\n",
       "      <td>i feel strong and good overall</td>\n",
       "      <td>joy</td>\n",
       "    </tr>\n",
       "    <tr>\n",
       "      <th>15998</th>\n",
       "      <td>i feel like this was such a rude comment and i...</td>\n",
       "      <td>anger</td>\n",
       "    </tr>\n",
       "    <tr>\n",
       "      <th>15999</th>\n",
       "      <td>i know a lot but i feel so stupid because i ca...</td>\n",
       "      <td>sadness</td>\n",
       "    </tr>\n",
       "  </tbody>\n",
       "</table>\n",
       "<p>16000 rows × 2 columns</p>\n",
       "</div>"
      ],
      "text/plain": [
       "                                                    text sentiment\n",
       "0                                i didnt feel humiliated   sadness\n",
       "1      i can go from feeling so hopeless to so damned...   sadness\n",
       "2       im grabbing a minute to post i feel greedy wrong     anger\n",
       "3      i am ever feeling nostalgic about the fireplac...      love\n",
       "4                                   i am feeling grouchy     anger\n",
       "...                                                  ...       ...\n",
       "15995  i just had a very brief time in the beanbag an...   sadness\n",
       "15996  i am now turning and i feel pathetic that i am...   sadness\n",
       "15997                     i feel strong and good overall       joy\n",
       "15998  i feel like this was such a rude comment and i...     anger\n",
       "15999  i know a lot but i feel so stupid because i ca...   sadness\n",
       "\n",
       "[16000 rows x 2 columns]"
      ]
     },
     "execution_count": 10,
     "metadata": {},
     "output_type": "execute_result"
    }
   ],
   "source": [
    "df"
   ]
  },
  {
   "cell_type": "code",
   "execution_count": 11,
   "id": "e4a855c0-3b46-44af-9c9a-814cdea511ae",
   "metadata": {},
   "outputs": [
    {
     "data": {
      "text/plain": [
       "array(['sadness', 'anger', 'love', 'surprise', 'fear', 'joy'],\n",
       "      dtype=object)"
      ]
     },
     "execution_count": 11,
     "metadata": {},
     "output_type": "execute_result"
    }
   ],
   "source": [
    "df['sentiment'].unique()"
   ]
  },
  {
   "cell_type": "code",
   "execution_count": 12,
   "id": "8aeb0e9a-7755-4d27-9718-4929b755070c",
   "metadata": {},
   "outputs": [],
   "source": [
    "df['sentiment_num'] = df['sentiment'].map({\n",
    "    'sadness':0,\n",
    "    'anger':1,\n",
    "    'love':2,\n",
    "    'surprise':3,\n",
    "    'fear':4,\n",
    "    'joy':5\n",
    "})"
   ]
  },
  {
   "cell_type": "code",
   "execution_count": 13,
   "id": "835d2049-58cd-47aa-ad5d-7b727e1bb668",
   "metadata": {},
   "outputs": [
    {
     "data": {
      "text/html": [
       "<div>\n",
       "<style scoped>\n",
       "    .dataframe tbody tr th:only-of-type {\n",
       "        vertical-align: middle;\n",
       "    }\n",
       "\n",
       "    .dataframe tbody tr th {\n",
       "        vertical-align: top;\n",
       "    }\n",
       "\n",
       "    .dataframe thead th {\n",
       "        text-align: right;\n",
       "    }\n",
       "</style>\n",
       "<table border=\"1\" class=\"dataframe\">\n",
       "  <thead>\n",
       "    <tr style=\"text-align: right;\">\n",
       "      <th></th>\n",
       "      <th>text</th>\n",
       "      <th>sentiment</th>\n",
       "      <th>sentiment_num</th>\n",
       "    </tr>\n",
       "  </thead>\n",
       "  <tbody>\n",
       "    <tr>\n",
       "      <th>0</th>\n",
       "      <td>i didnt feel humiliated</td>\n",
       "      <td>sadness</td>\n",
       "      <td>0</td>\n",
       "    </tr>\n",
       "    <tr>\n",
       "      <th>1</th>\n",
       "      <td>i can go from feeling so hopeless to so damned...</td>\n",
       "      <td>sadness</td>\n",
       "      <td>0</td>\n",
       "    </tr>\n",
       "    <tr>\n",
       "      <th>2</th>\n",
       "      <td>im grabbing a minute to post i feel greedy wrong</td>\n",
       "      <td>anger</td>\n",
       "      <td>1</td>\n",
       "    </tr>\n",
       "    <tr>\n",
       "      <th>3</th>\n",
       "      <td>i am ever feeling nostalgic about the fireplac...</td>\n",
       "      <td>love</td>\n",
       "      <td>2</td>\n",
       "    </tr>\n",
       "    <tr>\n",
       "      <th>4</th>\n",
       "      <td>i am feeling grouchy</td>\n",
       "      <td>anger</td>\n",
       "      <td>1</td>\n",
       "    </tr>\n",
       "  </tbody>\n",
       "</table>\n",
       "</div>"
      ],
      "text/plain": [
       "                                                text sentiment  sentiment_num\n",
       "0                            i didnt feel humiliated   sadness              0\n",
       "1  i can go from feeling so hopeless to so damned...   sadness              0\n",
       "2   im grabbing a minute to post i feel greedy wrong     anger              1\n",
       "3  i am ever feeling nostalgic about the fireplac...      love              2\n",
       "4                               i am feeling grouchy     anger              1"
      ]
     },
     "execution_count": 13,
     "metadata": {},
     "output_type": "execute_result"
    }
   ],
   "source": [
    "df.head()"
   ]
  },
  {
   "cell_type": "code",
   "execution_count": 14,
   "id": "ce3dbf7c-a4b9-4dc9-82ac-0838ff39e130",
   "metadata": {},
   "outputs": [],
   "source": [
    "import spacy\n",
    "\n",
    "nlp = spacy.load('en_core_web_sm')\n",
    "def preprocess(text):\n",
    "    doc = nlp(text)\n",
    "    words = []\n",
    "    for word in doc:\n",
    "        if word.is_stop or word.is_punct:\n",
    "            continue\n",
    "        else:\n",
    "            words.append(word.text)\n",
    "    return \" \".join(words)"
   ]
  },
  {
   "cell_type": "code",
   "execution_count": 16,
   "id": "a35255fe-ef69-491e-887c-d191a2415b21",
   "metadata": {},
   "outputs": [],
   "source": [
    "df['pre_text'] = df['text'].apply(lambda x: preprocess(x))"
   ]
  },
  {
   "cell_type": "code",
   "execution_count": 17,
   "id": "db5ea8ae-0440-49bf-b8b7-2a9c3f219f15",
   "metadata": {},
   "outputs": [
    {
     "data": {
      "text/html": [
       "<div>\n",
       "<style scoped>\n",
       "    .dataframe tbody tr th:only-of-type {\n",
       "        vertical-align: middle;\n",
       "    }\n",
       "\n",
       "    .dataframe tbody tr th {\n",
       "        vertical-align: top;\n",
       "    }\n",
       "\n",
       "    .dataframe thead th {\n",
       "        text-align: right;\n",
       "    }\n",
       "</style>\n",
       "<table border=\"1\" class=\"dataframe\">\n",
       "  <thead>\n",
       "    <tr style=\"text-align: right;\">\n",
       "      <th></th>\n",
       "      <th>text</th>\n",
       "      <th>sentiment</th>\n",
       "      <th>sentiment_num</th>\n",
       "      <th>pre_text</th>\n",
       "    </tr>\n",
       "  </thead>\n",
       "  <tbody>\n",
       "    <tr>\n",
       "      <th>0</th>\n",
       "      <td>i didnt feel humiliated</td>\n",
       "      <td>sadness</td>\n",
       "      <td>0</td>\n",
       "      <td>nt feel humiliated</td>\n",
       "    </tr>\n",
       "    <tr>\n",
       "      <th>1</th>\n",
       "      <td>i can go from feeling so hopeless to so damned...</td>\n",
       "      <td>sadness</td>\n",
       "      <td>0</td>\n",
       "      <td>feeling hopeless damned hopeful cares awake</td>\n",
       "    </tr>\n",
       "    <tr>\n",
       "      <th>2</th>\n",
       "      <td>im grabbing a minute to post i feel greedy wrong</td>\n",
       "      <td>anger</td>\n",
       "      <td>1</td>\n",
       "      <td>m grabbing minute post feel greedy wrong</td>\n",
       "    </tr>\n",
       "    <tr>\n",
       "      <th>3</th>\n",
       "      <td>i am ever feeling nostalgic about the fireplac...</td>\n",
       "      <td>love</td>\n",
       "      <td>2</td>\n",
       "      <td>feeling nostalgic fireplace know property</td>\n",
       "    </tr>\n",
       "    <tr>\n",
       "      <th>4</th>\n",
       "      <td>i am feeling grouchy</td>\n",
       "      <td>anger</td>\n",
       "      <td>1</td>\n",
       "      <td>feeling grouchy</td>\n",
       "    </tr>\n",
       "  </tbody>\n",
       "</table>\n",
       "</div>"
      ],
      "text/plain": [
       "                                                text sentiment  sentiment_num  \\\n",
       "0                            i didnt feel humiliated   sadness              0   \n",
       "1  i can go from feeling so hopeless to so damned...   sadness              0   \n",
       "2   im grabbing a minute to post i feel greedy wrong     anger              1   \n",
       "3  i am ever feeling nostalgic about the fireplac...      love              2   \n",
       "4                               i am feeling grouchy     anger              1   \n",
       "\n",
       "                                      pre_text  \n",
       "0                           nt feel humiliated  \n",
       "1  feeling hopeless damned hopeful cares awake  \n",
       "2     m grabbing minute post feel greedy wrong  \n",
       "3    feeling nostalgic fireplace know property  \n",
       "4                              feeling grouchy  "
      ]
     },
     "execution_count": 17,
     "metadata": {},
     "output_type": "execute_result"
    }
   ],
   "source": [
    "df.head()"
   ]
  },
  {
   "cell_type": "code",
   "execution_count": 26,
   "id": "971a42ef-3fa4-4499-a03b-7f108f99d668",
   "metadata": {},
   "outputs": [
    {
     "data": {
      "text/plain": [
       "((12800,), (3200,))"
      ]
     },
     "execution_count": 26,
     "metadata": {},
     "output_type": "execute_result"
    }
   ],
   "source": [
    "from sklearn.model_selection import train_test_split\n",
    "\n",
    "x_train, x_test, y_train, y_test = train_test_split(df['pre_text'], df['sentiment_num'], test_size = 0.2, random_state=90, stratify=df['sentiment_num'])\n",
    "x_train.shape, x_test.shape"
   ]
  },
  {
   "cell_type": "code",
   "execution_count": 32,
   "id": "376b20c3-f2a3-4114-8c66-7943703fd003",
   "metadata": {},
   "outputs": [
    {
     "data": {
      "text/plain": [
       "(sentiment_num\n",
       " 5    4290\n",
       " 0    3733\n",
       " 1    1727\n",
       " 4    1550\n",
       " 2    1043\n",
       " 3     457\n",
       " Name: count, dtype: int64,\n",
       " sentiment_num\n",
       " 5    1072\n",
       " 0     933\n",
       " 1     432\n",
       " 4     387\n",
       " 2     261\n",
       " 3     115\n",
       " Name: count, dtype: int64)"
      ]
     },
     "execution_count": 32,
     "metadata": {},
     "output_type": "execute_result"
    }
   ],
   "source": [
    "y_train.value_counts(), y_test.value_counts()"
   ]
  },
  {
   "cell_type": "code",
   "execution_count": 29,
   "id": "ceba2f5a-265b-4ab0-8809-69991426abde",
   "metadata": {},
   "outputs": [],
   "source": [
    "from sklearn.pipeline import Pipeline\n",
    "from sklearn.metrics import classification_report, confusion_matrix\n",
    "from sklearn.feature_extraction.text import TfidfVectorizer\n",
    "from sklearn.naive_bayes import MultinomialNB"
   ]
  },
  {
   "cell_type": "code",
   "execution_count": 30,
   "id": "1e17f86c-4990-432c-aa2d-2f1a79f065eb",
   "metadata": {},
   "outputs": [
    {
     "data": {
      "text/plain": [
       "0.6853125"
      ]
     },
     "execution_count": 30,
     "metadata": {},
     "output_type": "execute_result"
    }
   ],
   "source": [
    "pipe = Pipeline([\n",
    "    ('tf-idf', TfidfVectorizer()),\n",
    "    ('naive', MultinomialNB())\n",
    "])\n",
    "pipe.fit(x_train, y_train)\n",
    "pipe.score(x_test, y_test)"
   ]
  },
  {
   "cell_type": "code",
   "execution_count": 31,
   "id": "5a71ad6b-258d-42cc-88de-79fa5fcb5217",
   "metadata": {},
   "outputs": [
    {
     "name": "stdout",
     "output_type": "stream",
     "text": [
      "              precision    recall  f1-score   support\n",
      "\n",
      "           0       0.69      0.91      0.79       933\n",
      "           1       0.92      0.38      0.54       432\n",
      "           2       0.95      0.08      0.15       261\n",
      "           3       1.00      0.01      0.02       115\n",
      "           4       0.92      0.29      0.44       387\n",
      "           5       0.64      0.97      0.77      1072\n",
      "\n",
      "    accuracy                           0.69      3200\n",
      "   macro avg       0.85      0.44      0.45      3200\n",
      "weighted avg       0.76      0.69      0.62      3200\n",
      "\n"
     ]
    }
   ],
   "source": [
    "print(classification_report(y_test, pipe.predict(x_test)))"
   ]
  },
  {
   "cell_type": "code",
   "execution_count": null,
   "id": "7eb6aa92-fbd8-4c22-9696-d9041422203b",
   "metadata": {},
   "outputs": [],
   "source": []
  }
 ],
 "metadata": {
  "kernelspec": {
   "display_name": "Python 3 (ipykernel)",
   "language": "python",
   "name": "python3"
  },
  "language_info": {
   "codemirror_mode": {
    "name": "ipython",
    "version": 3
   },
   "file_extension": ".py",
   "mimetype": "text/x-python",
   "name": "python",
   "nbconvert_exporter": "python",
   "pygments_lexer": "ipython3",
   "version": "3.10.10"
  },
  "widgets": {
   "application/vnd.jupyter.widget-state+json": {
    "state": {},
    "version_major": 2,
    "version_minor": 0
   }
  }
 },
 "nbformat": 4,
 "nbformat_minor": 5
}
