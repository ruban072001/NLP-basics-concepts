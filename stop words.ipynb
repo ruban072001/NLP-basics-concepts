{
 "cells": [
  {
   "cell_type": "code",
   "execution_count": 1,
   "id": "dfd35b57-1606-452e-b9c7-991b1118ab6a",
   "metadata": {},
   "outputs": [],
   "source": [
    "from spacy.lang.en.stop_words import STOP_WORDS\n",
    "import spacy"
   ]
  },
  {
   "cell_type": "code",
   "execution_count": 2,
   "id": "cf1ec4c4-675d-4b8d-bda5-92363050c96d",
   "metadata": {},
   "outputs": [],
   "source": [
    "st_word = STOP_WORDS"
   ]
  },
  {
   "cell_type": "code",
   "execution_count": 3,
   "id": "5fe3c018-d6e1-4536-99f7-39091bbbac31",
   "metadata": {},
   "outputs": [
    {
     "data": {
      "text/plain": [
       "326"
      ]
     },
     "execution_count": 3,
     "metadata": {},
     "output_type": "execute_result"
    }
   ],
   "source": [
    "len(st_word)"
   ]
  },
  {
   "cell_type": "code",
   "execution_count": 4,
   "id": "f1abbcbe-bf77-490d-af76-88fca7b761ed",
   "metadata": {},
   "outputs": [],
   "source": [
    "nlp = spacy.load('en_core_web_sm')"
   ]
  },
  {
   "cell_type": "code",
   "execution_count": 5,
   "id": "2613ca6c-c217-466a-be7b-67737427bc5d",
   "metadata": {},
   "outputs": [],
   "source": [
    "text = \"Virat Kohli is an Indian international cricketer who plays Test and ODI cricket for the Indian national team. A former captain in all formats of the game, Kohli retired from the T20I format following India's win at the 2024 T20 World Cup.\"\n",
    "word = nlp(text)"
   ]
  },
  {
   "cell_type": "code",
   "execution_count": 6,
   "id": "6beb16ce-bcd2-48b4-964f-1f91c2612023",
   "metadata": {},
   "outputs": [],
   "source": [
    "stop_word = []\n",
    "for i in word:\n",
    "    if i.is_stop:\n",
    "        stop_word.append(i)"
   ]
  },
  {
   "cell_type": "code",
   "execution_count": 7,
   "id": "cf7b5565-4a64-415d-9835-03da90e2f2f1",
   "metadata": {},
   "outputs": [
    {
     "data": {
      "text/plain": [
       "[is,\n",
       " an,\n",
       " who,\n",
       " and,\n",
       " for,\n",
       " the,\n",
       " A,\n",
       " former,\n",
       " in,\n",
       " all,\n",
       " of,\n",
       " the,\n",
       " from,\n",
       " the,\n",
       " 's,\n",
       " at,\n",
       " the]"
      ]
     },
     "execution_count": 7,
     "metadata": {},
     "output_type": "execute_result"
    }
   ],
   "source": [
    "stop_word"
   ]
  },
  {
   "cell_type": "code",
   "execution_count": 8,
   "id": "ff17ee6a-61b3-4dca-9061-29ecbe77b9c2",
   "metadata": {},
   "outputs": [],
   "source": [
    "def preprocess(text):\n",
    "    word = nlp(text)\n",
    "    final_token = [i.text for i in word if not i.is_stop if not i.is_punct]\n",
    "    return \" \".join(final_token)"
   ]
  },
  {
   "cell_type": "code",
   "execution_count": 9,
   "id": "47f81067-afd4-4529-b299-9c82d0b43c04",
   "metadata": {},
   "outputs": [
    {
     "data": {
      "text/plain": [
       "'Virat Kohli Indian international cricketer plays Test ODI cricket Indian national team captain formats game Kohli retired T20I format following India win 2024 T20 World Cup'"
      ]
     },
     "execution_count": 9,
     "metadata": {},
     "output_type": "execute_result"
    }
   ],
   "source": [
    "preprocess(text)"
   ]
  },
  {
   "cell_type": "code",
   "execution_count": 10,
   "id": "8d48c7db-4948-4e3e-84ec-3eb83fe36570",
   "metadata": {},
   "outputs": [],
   "source": [
    "import pandas as pd"
   ]
  },
  {
   "cell_type": "code",
   "execution_count": 11,
   "id": "4d149ab8-b6ac-4e5e-9c74-38d3a154db7d",
   "metadata": {},
   "outputs": [],
   "source": [
    "df = pd.read_json(r\"C:\\Users\\KIRUBA\\Downloads\\combined.json\\combined.json\", lines= True)"
   ]
  },
  {
   "cell_type": "code",
   "execution_count": 12,
   "id": "6732e122-fcf6-42d6-9df7-f56e0a27b826",
   "metadata": {},
   "outputs": [
    {
     "data": {
      "text/html": [
       "<div>\n",
       "<style scoped>\n",
       "    .dataframe tbody tr th:only-of-type {\n",
       "        vertical-align: middle;\n",
       "    }\n",
       "\n",
       "    .dataframe tbody tr th {\n",
       "        vertical-align: top;\n",
       "    }\n",
       "\n",
       "    .dataframe thead th {\n",
       "        text-align: right;\n",
       "    }\n",
       "</style>\n",
       "<table border=\"1\" class=\"dataframe\">\n",
       "  <thead>\n",
       "    <tr style=\"text-align: right;\">\n",
       "      <th></th>\n",
       "      <th>id</th>\n",
       "      <th>title</th>\n",
       "      <th>contents</th>\n",
       "      <th>date</th>\n",
       "      <th>topics</th>\n",
       "      <th>components</th>\n",
       "    </tr>\n",
       "  </thead>\n",
       "  <tbody>\n",
       "    <tr>\n",
       "      <th>0</th>\n",
       "      <td>None</td>\n",
       "      <td>Convicted Bomb Plotter Sentenced to 30 Years</td>\n",
       "      <td>PORTLAND, Oregon. – Mohamed Osman Mohamud, 23,...</td>\n",
       "      <td>2014-10-01T00:00:00-04:00</td>\n",
       "      <td>[]</td>\n",
       "      <td>[National Security Division (NSD)]</td>\n",
       "    </tr>\n",
       "    <tr>\n",
       "      <th>1</th>\n",
       "      <td>12-919</td>\n",
       "      <td>$1 Million in Restitution Payments Announced t...</td>\n",
       "      <td>WASHINGTON – North Carolina’s Waccamaw River...</td>\n",
       "      <td>2012-07-25T00:00:00-04:00</td>\n",
       "      <td>[]</td>\n",
       "      <td>[Environment and Natural Resources Division]</td>\n",
       "    </tr>\n",
       "    <tr>\n",
       "      <th>2</th>\n",
       "      <td>11-1002</td>\n",
       "      <td>$1 Million Settlement Reached for Natural Reso...</td>\n",
       "      <td>BOSTON– A $1-million settlement has been...</td>\n",
       "      <td>2011-08-03T00:00:00-04:00</td>\n",
       "      <td>[]</td>\n",
       "      <td>[Environment and Natural Resources Division]</td>\n",
       "    </tr>\n",
       "    <tr>\n",
       "      <th>3</th>\n",
       "      <td>10-015</td>\n",
       "      <td>10 Las Vegas Men Indicted \\r\\nfor Falsifying V...</td>\n",
       "      <td>WASHINGTON—A federal grand jury in Las Vegas...</td>\n",
       "      <td>2010-01-08T00:00:00-05:00</td>\n",
       "      <td>[]</td>\n",
       "      <td>[Environment and Natural Resources Division]</td>\n",
       "    </tr>\n",
       "    <tr>\n",
       "      <th>4</th>\n",
       "      <td>18-898</td>\n",
       "      <td>$100 Million Settlement Will Speed Cleanup Wor...</td>\n",
       "      <td>The U.S. Department of Justice, the U.S. Envir...</td>\n",
       "      <td>2018-07-09T00:00:00-04:00</td>\n",
       "      <td>[Environment]</td>\n",
       "      <td>[Environment and Natural Resources Division]</td>\n",
       "    </tr>\n",
       "  </tbody>\n",
       "</table>\n",
       "</div>"
      ],
      "text/plain": [
       "        id                                              title  \\\n",
       "0     None       Convicted Bomb Plotter Sentenced to 30 Years   \n",
       "1  12-919   $1 Million in Restitution Payments Announced t...   \n",
       "2  11-1002  $1 Million Settlement Reached for Natural Reso...   \n",
       "3   10-015  10 Las Vegas Men Indicted \\r\\nfor Falsifying V...   \n",
       "4   18-898  $100 Million Settlement Will Speed Cleanup Wor...   \n",
       "\n",
       "                                            contents  \\\n",
       "0  PORTLAND, Oregon. – Mohamed Osman Mohamud, 23,...   \n",
       "1    WASHINGTON – North Carolina’s Waccamaw River...   \n",
       "2        BOSTON– A $1-million settlement has been...   \n",
       "3    WASHINGTON—A federal grand jury in Las Vegas...   \n",
       "4  The U.S. Department of Justice, the U.S. Envir...   \n",
       "\n",
       "                        date         topics  \\\n",
       "0  2014-10-01T00:00:00-04:00             []   \n",
       "1  2012-07-25T00:00:00-04:00             []   \n",
       "2  2011-08-03T00:00:00-04:00             []   \n",
       "3  2010-01-08T00:00:00-05:00             []   \n",
       "4  2018-07-09T00:00:00-04:00  [Environment]   \n",
       "\n",
       "                                     components  \n",
       "0            [National Security Division (NSD)]  \n",
       "1  [Environment and Natural Resources Division]  \n",
       "2  [Environment and Natural Resources Division]  \n",
       "3  [Environment and Natural Resources Division]  \n",
       "4  [Environment and Natural Resources Division]  "
      ]
     },
     "execution_count": 12,
     "metadata": {},
     "output_type": "execute_result"
    }
   ],
   "source": [
    "df.head()"
   ]
  },
  {
   "cell_type": "code",
   "execution_count": 13,
   "id": "e06bfe33-f783-45a1-80a5-6c2dee2e29eb",
   "metadata": {},
   "outputs": [
    {
     "data": {
      "text/plain": [
       "(13087, 6)"
      ]
     },
     "execution_count": 13,
     "metadata": {},
     "output_type": "execute_result"
    }
   ],
   "source": [
    "df.shape"
   ]
  },
  {
   "cell_type": "code",
   "execution_count": 14,
   "id": "87810a9c-226e-4224-9e58-d09e34abe0e1",
   "metadata": {},
   "outputs": [
    {
     "name": "stdout",
     "output_type": "stream",
     "text": [
      "[]\n"
     ]
    }
   ],
   "source": [
    "print(df['topics'][0])"
   ]
  },
  {
   "cell_type": "code",
   "execution_count": 15,
   "id": "512b9bd2-6450-4ad3-b9d5-93d53e3a4923",
   "metadata": {},
   "outputs": [
    {
     "name": "stdout",
     "output_type": "stream",
     "text": [
      "<class 'pandas.core.frame.DataFrame'>\n",
      "RangeIndex: 13087 entries, 0 to 13086\n",
      "Data columns (total 6 columns):\n",
      " #   Column      Non-Null Count  Dtype \n",
      "---  ------      --------------  ----- \n",
      " 0   id          12810 non-null  object\n",
      " 1   title       13087 non-null  object\n",
      " 2   contents    13087 non-null  object\n",
      " 3   date        13087 non-null  object\n",
      " 4   topics      13087 non-null  object\n",
      " 5   components  13087 non-null  object\n",
      "dtypes: object(6)\n",
      "memory usage: 613.6+ KB\n"
     ]
    }
   ],
   "source": [
    "df.info()"
   ]
  },
  {
   "cell_type": "code",
   "execution_count": 16,
   "id": "2f958989-6cb0-4913-8541-e99cefbe986e",
   "metadata": {},
   "outputs": [],
   "source": [
    "df1 = df[df['topics'].str.len()!=0]"
   ]
  },
  {
   "cell_type": "code",
   "execution_count": 17,
   "id": "40d76258-8116-4707-a45a-a2adb818c998",
   "metadata": {},
   "outputs": [
    {
     "data": {
      "text/plain": [
       "(4688, 6)"
      ]
     },
     "execution_count": 17,
     "metadata": {},
     "output_type": "execute_result"
    }
   ],
   "source": [
    "df1.shape"
   ]
  },
  {
   "cell_type": "code",
   "execution_count": 18,
   "id": "cf07b974-ac0b-4003-b5af-b20dd51e990a",
   "metadata": {},
   "outputs": [],
   "source": [
    "df1 = df.head(200)"
   ]
  },
  {
   "cell_type": "code",
   "execution_count": 19,
   "id": "12804a8d-82eb-4fa4-ba6e-c82f6a8e44ee",
   "metadata": {},
   "outputs": [
    {
     "data": {
      "text/plain": [
       "(200, 6)"
      ]
     },
     "execution_count": 19,
     "metadata": {},
     "output_type": "execute_result"
    }
   ],
   "source": [
    "df1.shape"
   ]
  },
  {
   "cell_type": "code",
   "execution_count": 20,
   "id": "5639e60e-79ca-42c5-8fa3-63be770ca6dd",
   "metadata": {},
   "outputs": [
    {
     "name": "stderr",
     "output_type": "stream",
     "text": [
      "C:\\Users\\KIRUBA\\AppData\\Local\\Temp\\ipykernel_21680\\3720084743.py:1: SettingWithCopyWarning: \n",
      "A value is trying to be set on a copy of a slice from a DataFrame.\n",
      "Try using .loc[row_indexer,col_indexer] = value instead\n",
      "\n",
      "See the caveats in the documentation: https://pandas.pydata.org/pandas-docs/stable/user_guide/indexing.html#returning-a-view-versus-a-copy\n",
      "  df1['content'] = df1['contents'].apply(preprocess)\n"
     ]
    }
   ],
   "source": [
    "df1['content'] = df1['contents'].apply(preprocess)"
   ]
  },
  {
   "cell_type": "code",
   "execution_count": 21,
   "id": "83fdc16c-780e-4ba2-b3f5-43ddeae21019",
   "metadata": {},
   "outputs": [
    {
     "data": {
      "text/html": [
       "<div>\n",
       "<style scoped>\n",
       "    .dataframe tbody tr th:only-of-type {\n",
       "        vertical-align: middle;\n",
       "    }\n",
       "\n",
       "    .dataframe tbody tr th {\n",
       "        vertical-align: top;\n",
       "    }\n",
       "\n",
       "    .dataframe thead th {\n",
       "        text-align: right;\n",
       "    }\n",
       "</style>\n",
       "<table border=\"1\" class=\"dataframe\">\n",
       "  <thead>\n",
       "    <tr style=\"text-align: right;\">\n",
       "      <th></th>\n",
       "      <th>id</th>\n",
       "      <th>title</th>\n",
       "      <th>contents</th>\n",
       "      <th>date</th>\n",
       "      <th>topics</th>\n",
       "      <th>components</th>\n",
       "      <th>content</th>\n",
       "    </tr>\n",
       "  </thead>\n",
       "  <tbody>\n",
       "    <tr>\n",
       "      <th>0</th>\n",
       "      <td>None</td>\n",
       "      <td>Convicted Bomb Plotter Sentenced to 30 Years</td>\n",
       "      <td>PORTLAND, Oregon. – Mohamed Osman Mohamud, 23,...</td>\n",
       "      <td>2014-10-01T00:00:00-04:00</td>\n",
       "      <td>[]</td>\n",
       "      <td>[National Security Division (NSD)]</td>\n",
       "      <td>PORTLAND Oregon Mohamed Osman Mohamud 23 convi...</td>\n",
       "    </tr>\n",
       "    <tr>\n",
       "      <th>1</th>\n",
       "      <td>12-919</td>\n",
       "      <td>$1 Million in Restitution Payments Announced t...</td>\n",
       "      <td>WASHINGTON – North Carolina’s Waccamaw River...</td>\n",
       "      <td>2012-07-25T00:00:00-04:00</td>\n",
       "      <td>[]</td>\n",
       "      <td>[Environment and Natural Resources Division]</td>\n",
       "      <td>WASHINGTON North Carolina Waccamaw River wa...</td>\n",
       "    </tr>\n",
       "    <tr>\n",
       "      <th>2</th>\n",
       "      <td>11-1002</td>\n",
       "      <td>$1 Million Settlement Reached for Natural Reso...</td>\n",
       "      <td>BOSTON– A $1-million settlement has been...</td>\n",
       "      <td>2011-08-03T00:00:00-04:00</td>\n",
       "      <td>[]</td>\n",
       "      <td>[Environment and Natural Resources Division]</td>\n",
       "      <td>BOSTON $ 1 million settlement reached n...</td>\n",
       "    </tr>\n",
       "    <tr>\n",
       "      <th>3</th>\n",
       "      <td>10-015</td>\n",
       "      <td>10 Las Vegas Men Indicted \\r\\nfor Falsifying V...</td>\n",
       "      <td>WASHINGTON—A federal grand jury in Las Vegas...</td>\n",
       "      <td>2010-01-08T00:00:00-05:00</td>\n",
       "      <td>[]</td>\n",
       "      <td>[Environment and Natural Resources Division]</td>\n",
       "      <td>WASHINGTON federal grand jury Las Vegas tod...</td>\n",
       "    </tr>\n",
       "    <tr>\n",
       "      <th>4</th>\n",
       "      <td>18-898</td>\n",
       "      <td>$100 Million Settlement Will Speed Cleanup Wor...</td>\n",
       "      <td>The U.S. Department of Justice, the U.S. Envir...</td>\n",
       "      <td>2018-07-09T00:00:00-04:00</td>\n",
       "      <td>[Environment]</td>\n",
       "      <td>[Environment and Natural Resources Division]</td>\n",
       "      <td>U.S. Department Justice U.S. Environmental Pro...</td>\n",
       "    </tr>\n",
       "  </tbody>\n",
       "</table>\n",
       "</div>"
      ],
      "text/plain": [
       "        id                                              title  \\\n",
       "0     None       Convicted Bomb Plotter Sentenced to 30 Years   \n",
       "1  12-919   $1 Million in Restitution Payments Announced t...   \n",
       "2  11-1002  $1 Million Settlement Reached for Natural Reso...   \n",
       "3   10-015  10 Las Vegas Men Indicted \\r\\nfor Falsifying V...   \n",
       "4   18-898  $100 Million Settlement Will Speed Cleanup Wor...   \n",
       "\n",
       "                                            contents  \\\n",
       "0  PORTLAND, Oregon. – Mohamed Osman Mohamud, 23,...   \n",
       "1    WASHINGTON – North Carolina’s Waccamaw River...   \n",
       "2        BOSTON– A $1-million settlement has been...   \n",
       "3    WASHINGTON—A federal grand jury in Las Vegas...   \n",
       "4  The U.S. Department of Justice, the U.S. Envir...   \n",
       "\n",
       "                        date         topics  \\\n",
       "0  2014-10-01T00:00:00-04:00             []   \n",
       "1  2012-07-25T00:00:00-04:00             []   \n",
       "2  2011-08-03T00:00:00-04:00             []   \n",
       "3  2010-01-08T00:00:00-05:00             []   \n",
       "4  2018-07-09T00:00:00-04:00  [Environment]   \n",
       "\n",
       "                                     components  \\\n",
       "0            [National Security Division (NSD)]   \n",
       "1  [Environment and Natural Resources Division]   \n",
       "2  [Environment and Natural Resources Division]   \n",
       "3  [Environment and Natural Resources Division]   \n",
       "4  [Environment and Natural Resources Division]   \n",
       "\n",
       "                                             content  \n",
       "0  PORTLAND Oregon Mohamed Osman Mohamud 23 convi...  \n",
       "1     WASHINGTON North Carolina Waccamaw River wa...  \n",
       "2         BOSTON $ 1 million settlement reached n...  \n",
       "3     WASHINGTON federal grand jury Las Vegas tod...  \n",
       "4  U.S. Department Justice U.S. Environmental Pro...  "
      ]
     },
     "execution_count": 21,
     "metadata": {},
     "output_type": "execute_result"
    }
   ],
   "source": [
    "df1.head()"
   ]
  },
  {
   "cell_type": "code",
   "execution_count": 22,
   "id": "e4175d00-1fc1-4cd6-b27f-2ebcc3e9f2cf",
   "metadata": {},
   "outputs": [
    {
     "data": {
      "text/plain": [
       "(200, 7)"
      ]
     },
     "execution_count": 22,
     "metadata": {},
     "output_type": "execute_result"
    }
   ],
   "source": [
    "df1.shape"
   ]
  },
  {
   "cell_type": "code",
   "execution_count": 23,
   "id": "26b5343b-5989-44bf-9616-4ab0b348e00e",
   "metadata": {},
   "outputs": [
    {
     "data": {
      "text/plain": [
       "'  WASHINGTON – North Carolina’s Waccamaw River watershed will benefit from a $1 million restitution order from a federal court, funding environmental projects to acquire and preserve wetlands in an ar'"
      ]
     },
     "execution_count": 23,
     "metadata": {},
     "output_type": "execute_result"
    }
   ],
   "source": [
    "df1['contents'][1][:200]   # original text with stop words"
   ]
  },
  {
   "cell_type": "code",
   "execution_count": 24,
   "id": "57a35839-cf28-4d83-9ad4-0c24be5636d8",
   "metadata": {},
   "outputs": [
    {
     "data": {
      "text/plain": [
       "'   WASHINGTON North Carolina Waccamaw River watershed benefit $ 1 million restitution order federal court funding environmental projects acquire preserve wetlands area damaged illegal releases wastewa'"
      ]
     },
     "execution_count": 24,
     "metadata": {},
     "output_type": "execute_result"
    }
   ],
   "source": [
    "df1['content'][1][:200]    # updated text , which does not contain stop words"
   ]
  },
  {
   "cell_type": "markdown",
   "id": "f99c6a2b-cace-49a2-aec7-02d687a2d951",
   "metadata": {},
   "source": [
    "# Exercise"
   ]
  },
  {
   "cell_type": "code",
   "execution_count": 25,
   "id": "39f6f8a8-3c9f-4fbf-af18-a6285e3dd449",
   "metadata": {},
   "outputs": [
    {
     "name": "stdout",
     "output_type": "stream",
     "text": [
      "The given text contains 25.0%\n",
      "stop_word_count:  40\n",
      "total_word_count:  160\n"
     ]
    }
   ],
   "source": [
    "text = '''\n",
    "Thor: Love and Thunder is a 2022 American superhero film based on Marvel Comics featuring the character Thor, produced by Marvel Studios and \n",
    "distributed by Walt Disney Studios Motion Pictures. It is the sequel to Thor: Ragnarok (2017) and the 29th film in the Marvel Cinematic Universe (MCU).\n",
    "The film is directed by Taika Waititi, who co-wrote the script with Jennifer Kaytin Robinson, and stars Chris Hemsworth as Thor alongside Christian Bale, Tessa Thompson,\n",
    "Jaimie Alexander, Waititi, Russell Crowe, and Natalie Portman. In the film, Thor attempts to find inner peace, but must return to action and recruit Valkyrie (Thompson),\n",
    "Korg (Waititi), and Jane Foster (Portman)—who is now the Mighty Thor—to stop Gorr the God Butcher (Bale) from eliminating all gods.\n",
    "'''\n",
    "doc = nlp(text)\n",
    "stop_word_count = 0\n",
    "total_word_count = 0\n",
    "for word in doc:\n",
    "    if word.is_stop:\n",
    "        stop_word_count += 1\n",
    "        total_word_count += 1\n",
    "    else:\n",
    "        total_word_count += 1\n",
    "\n",
    "percentage_of_stop_word = f'The given text contains {(stop_word_count/total_word_count)*100}%'\n",
    "print(percentage_of_stop_word)\n",
    "print(\"stop_word_count: \", stop_word_count)\n",
    "print(\"total_word_count: \", total_word_count)"
   ]
  },
  {
   "cell_type": "markdown",
   "id": "128076ba-f796-4c3f-8fb3-d5f4ab9e2708",
   "metadata": {},
   "source": [
    "#### stack overflow reference link: https://stackoverflow.com/questions/41170726/add-remove-custom-stop-words-with-spacy"
   ]
  },
  {
   "cell_type": "code",
   "execution_count": 26,
   "id": "868c4520-3908-481e-8f24-7369188f027e",
   "metadata": {},
   "outputs": [
    {
     "data": {
      "text/plain": [
       "326"
      ]
     },
     "execution_count": 26,
     "metadata": {},
     "output_type": "execute_result"
    }
   ],
   "source": [
    "len(nlp.Defaults.stop_words)"
   ]
  },
  {
   "cell_type": "code",
   "execution_count": 31,
   "id": "1a35613a-7f85-401a-bc45-7a4f23cd1858",
   "metadata": {},
   "outputs": [
    {
     "ename": "TypeError",
     "evalue": "unsupported operand type(s) for -=: 'builtin_function_or_method' and 'set'",
     "output_type": "error",
     "traceback": [
      "\u001b[1;31m---------------------------------------------------------------------------\u001b[0m",
      "\u001b[1;31mTypeError\u001b[0m                                 Traceback (most recent call last)",
      "Cell \u001b[1;32mIn[31], line 1\u001b[0m\n\u001b[1;32m----> 1\u001b[0m nlp\u001b[38;5;241m.\u001b[39mDefaults\u001b[38;5;241m.\u001b[39mstop_words\u001b[38;5;241m.\u001b[39mremove \u001b[38;5;241m-\u001b[39m\u001b[38;5;241m=\u001b[39m {\u001b[38;5;124m\"\u001b[39m\u001b[38;5;124mn\u001b[39m\u001b[38;5;124m'\u001b[39m\u001b[38;5;124mt\u001b[39m\u001b[38;5;124m\"\u001b[39m}\n",
      "\u001b[1;31mTypeError\u001b[0m: unsupported operand type(s) for -=: 'builtin_function_or_method' and 'set'"
     ]
    }
   ],
   "source": [
    "nlp.Defaults.stop_words.remove('not')"
   ]
  },
  {
   "cell_type": "code",
   "execution_count": 32,
   "id": "cfc20087-a018-49b5-8e59-22a013d5f4d3",
   "metadata": {},
   "outputs": [],
   "source": [
    "nlp.Defaults.stop_words -= {\"n't\"}"
   ]
  },
  {
   "cell_type": "code",
   "execution_count": 33,
   "id": "957d4e46-1ba6-4259-9c79-3cae7eb092a5",
   "metadata": {},
   "outputs": [
    {
     "data": {
      "text/plain": [
       "324"
      ]
     },
     "execution_count": 33,
     "metadata": {},
     "output_type": "execute_result"
    }
   ],
   "source": [
    "len(nlp.Defaults.stop_words)"
   ]
  },
  {
   "cell_type": "code",
   "execution_count": 34,
   "id": "f6b87e86-bb24-4f8e-8612-96aa0a653d2f",
   "metadata": {},
   "outputs": [
    {
     "data": {
      "text/plain": [
       "'good movie'"
      ]
     },
     "execution_count": 34,
     "metadata": {},
     "output_type": "execute_result"
    }
   ],
   "source": [
    "text1 = 'this is a good movie'\n",
    "text2 = 'this is not a good movie'\n",
    "preprocess(text1)"
   ]
  },
  {
   "cell_type": "code",
   "execution_count": 35,
   "id": "fe9f8c5e-4160-48f8-a60f-0868fe12058b",
   "metadata": {},
   "outputs": [
    {
     "data": {
      "text/plain": [
       "'good movie'"
      ]
     },
     "execution_count": 35,
     "metadata": {},
     "output_type": "execute_result"
    }
   ],
   "source": [
    "preprocess(text2)"
   ]
  },
  {
   "cell_type": "code",
   "execution_count": 36,
   "id": "1c1e5731-d8d0-4fa7-8c6c-e41932718bf9",
   "metadata": {},
   "outputs": [
    {
     "data": {
      "text/plain": [
       "{\"'d\",\n",
       " \"'ll\",\n",
       " \"'m\",\n",
       " \"'re\",\n",
       " \"'s\",\n",
       " \"'ve\",\n",
       " 'a',\n",
       " 'about',\n",
       " 'above',\n",
       " 'across',\n",
       " 'after',\n",
       " 'afterwards',\n",
       " 'again',\n",
       " 'against',\n",
       " 'all',\n",
       " 'almost',\n",
       " 'alone',\n",
       " 'along',\n",
       " 'already',\n",
       " 'also',\n",
       " 'although',\n",
       " 'always',\n",
       " 'am',\n",
       " 'among',\n",
       " 'amongst',\n",
       " 'amount',\n",
       " 'an',\n",
       " 'and',\n",
       " 'another',\n",
       " 'any',\n",
       " 'anyhow',\n",
       " 'anyone',\n",
       " 'anything',\n",
       " 'anyway',\n",
       " 'anywhere',\n",
       " 'are',\n",
       " 'around',\n",
       " 'as',\n",
       " 'at',\n",
       " 'back',\n",
       " 'be',\n",
       " 'became',\n",
       " 'because',\n",
       " 'become',\n",
       " 'becomes',\n",
       " 'becoming',\n",
       " 'been',\n",
       " 'before',\n",
       " 'beforehand',\n",
       " 'behind',\n",
       " 'being',\n",
       " 'below',\n",
       " 'beside',\n",
       " 'besides',\n",
       " 'between',\n",
       " 'beyond',\n",
       " 'both',\n",
       " 'bottom',\n",
       " 'but',\n",
       " 'by',\n",
       " 'ca',\n",
       " 'call',\n",
       " 'can',\n",
       " 'cannot',\n",
       " 'could',\n",
       " 'did',\n",
       " 'do',\n",
       " 'does',\n",
       " 'doing',\n",
       " 'done',\n",
       " 'down',\n",
       " 'due',\n",
       " 'during',\n",
       " 'each',\n",
       " 'eight',\n",
       " 'either',\n",
       " 'eleven',\n",
       " 'else',\n",
       " 'elsewhere',\n",
       " 'empty',\n",
       " 'enough',\n",
       " 'even',\n",
       " 'ever',\n",
       " 'every',\n",
       " 'everyone',\n",
       " 'everything',\n",
       " 'everywhere',\n",
       " 'except',\n",
       " 'few',\n",
       " 'fifteen',\n",
       " 'fifty',\n",
       " 'first',\n",
       " 'five',\n",
       " 'for',\n",
       " 'former',\n",
       " 'formerly',\n",
       " 'forty',\n",
       " 'four',\n",
       " 'from',\n",
       " 'front',\n",
       " 'full',\n",
       " 'further',\n",
       " 'get',\n",
       " 'give',\n",
       " 'go',\n",
       " 'had',\n",
       " 'has',\n",
       " 'have',\n",
       " 'he',\n",
       " 'hence',\n",
       " 'her',\n",
       " 'here',\n",
       " 'hereafter',\n",
       " 'hereby',\n",
       " 'herein',\n",
       " 'hereupon',\n",
       " 'hers',\n",
       " 'herself',\n",
       " 'him',\n",
       " 'himself',\n",
       " 'his',\n",
       " 'how',\n",
       " 'however',\n",
       " 'hundred',\n",
       " 'i',\n",
       " 'if',\n",
       " 'in',\n",
       " 'indeed',\n",
       " 'into',\n",
       " 'is',\n",
       " 'it',\n",
       " 'its',\n",
       " 'itself',\n",
       " 'just',\n",
       " 'keep',\n",
       " 'last',\n",
       " 'latter',\n",
       " 'latterly',\n",
       " 'least',\n",
       " 'less',\n",
       " 'made',\n",
       " 'make',\n",
       " 'many',\n",
       " 'may',\n",
       " 'me',\n",
       " 'meanwhile',\n",
       " 'might',\n",
       " 'mine',\n",
       " 'more',\n",
       " 'moreover',\n",
       " 'most',\n",
       " 'mostly',\n",
       " 'move',\n",
       " 'much',\n",
       " 'must',\n",
       " 'my',\n",
       " 'myself',\n",
       " 'name',\n",
       " 'namely',\n",
       " 'neither',\n",
       " 'never',\n",
       " 'nevertheless',\n",
       " 'next',\n",
       " 'nine',\n",
       " 'no',\n",
       " 'nobody',\n",
       " 'none',\n",
       " 'noone',\n",
       " 'nor',\n",
       " 'nothing',\n",
       " 'now',\n",
       " 'nowhere',\n",
       " 'n‘t',\n",
       " 'n’t',\n",
       " 'of',\n",
       " 'off',\n",
       " 'often',\n",
       " 'on',\n",
       " 'once',\n",
       " 'one',\n",
       " 'only',\n",
       " 'onto',\n",
       " 'or',\n",
       " 'other',\n",
       " 'others',\n",
       " 'otherwise',\n",
       " 'our',\n",
       " 'ours',\n",
       " 'ourselves',\n",
       " 'out',\n",
       " 'over',\n",
       " 'own',\n",
       " 'part',\n",
       " 'per',\n",
       " 'perhaps',\n",
       " 'please',\n",
       " 'put',\n",
       " 'quite',\n",
       " 'rather',\n",
       " 're',\n",
       " 'really',\n",
       " 'regarding',\n",
       " 'same',\n",
       " 'say',\n",
       " 'see',\n",
       " 'seem',\n",
       " 'seemed',\n",
       " 'seeming',\n",
       " 'seems',\n",
       " 'serious',\n",
       " 'several',\n",
       " 'she',\n",
       " 'should',\n",
       " 'show',\n",
       " 'side',\n",
       " 'since',\n",
       " 'six',\n",
       " 'sixty',\n",
       " 'so',\n",
       " 'some',\n",
       " 'somehow',\n",
       " 'someone',\n",
       " 'something',\n",
       " 'sometime',\n",
       " 'sometimes',\n",
       " 'somewhere',\n",
       " 'still',\n",
       " 'such',\n",
       " 'take',\n",
       " 'ten',\n",
       " 'than',\n",
       " 'that',\n",
       " 'the',\n",
       " 'their',\n",
       " 'them',\n",
       " 'themselves',\n",
       " 'then',\n",
       " 'thence',\n",
       " 'there',\n",
       " 'thereafter',\n",
       " 'thereby',\n",
       " 'therefore',\n",
       " 'therein',\n",
       " 'thereupon',\n",
       " 'these',\n",
       " 'they',\n",
       " 'third',\n",
       " 'this',\n",
       " 'those',\n",
       " 'though',\n",
       " 'three',\n",
       " 'through',\n",
       " 'throughout',\n",
       " 'thru',\n",
       " 'thus',\n",
       " 'to',\n",
       " 'together',\n",
       " 'too',\n",
       " 'top',\n",
       " 'toward',\n",
       " 'towards',\n",
       " 'twelve',\n",
       " 'twenty',\n",
       " 'two',\n",
       " 'under',\n",
       " 'unless',\n",
       " 'until',\n",
       " 'up',\n",
       " 'upon',\n",
       " 'us',\n",
       " 'used',\n",
       " 'using',\n",
       " 'various',\n",
       " 'very',\n",
       " 'via',\n",
       " 'was',\n",
       " 'we',\n",
       " 'well',\n",
       " 'were',\n",
       " 'what',\n",
       " 'whatever',\n",
       " 'when',\n",
       " 'whence',\n",
       " 'whenever',\n",
       " 'where',\n",
       " 'whereafter',\n",
       " 'whereas',\n",
       " 'whereby',\n",
       " 'wherein',\n",
       " 'whereupon',\n",
       " 'wherever',\n",
       " 'whether',\n",
       " 'which',\n",
       " 'while',\n",
       " 'whither',\n",
       " 'who',\n",
       " 'whoever',\n",
       " 'whole',\n",
       " 'whom',\n",
       " 'whose',\n",
       " 'why',\n",
       " 'will',\n",
       " 'with',\n",
       " 'within',\n",
       " 'without',\n",
       " 'would',\n",
       " 'yet',\n",
       " 'you',\n",
       " 'your',\n",
       " 'yours',\n",
       " 'yourself',\n",
       " 'yourselves',\n",
       " '‘d',\n",
       " '‘ll',\n",
       " '‘m',\n",
       " '‘re',\n",
       " '‘s',\n",
       " '‘ve',\n",
       " '’d',\n",
       " '’ll',\n",
       " '’m',\n",
       " '’re',\n",
       " '’s',\n",
       " '’ve'}"
      ]
     },
     "execution_count": 36,
     "metadata": {},
     "output_type": "execute_result"
    }
   ],
   "source": [
    "nlp.Defaults.stop_words"
   ]
  },
  {
   "cell_type": "code",
   "execution_count": 37,
   "id": "acc2eedb-6ef8-4bf4-a055-f928596744e7",
   "metadata": {},
   "outputs": [
    {
     "name": "stdout",
     "output_type": "stream",
     "text": [
      "True\n",
      "True\n",
      "True\n",
      "True\n",
      "False\n",
      "False\n"
     ]
    }
   ],
   "source": [
    "for i in nlp(text2):\n",
    "    print(i.is_stop)"
   ]
  },
  {
   "cell_type": "code",
   "execution_count": 38,
   "id": "16893d1a-b32a-403f-9a89-28397c64cf08",
   "metadata": {},
   "outputs": [],
   "source": [
    "nlp.vocab['not'].is_stop = False"
   ]
  },
  {
   "cell_type": "code",
   "execution_count": 39,
   "id": "5cd9a388-9a8d-430a-8b4c-ac13afa24125",
   "metadata": {},
   "outputs": [
    {
     "name": "stdout",
     "output_type": "stream",
     "text": [
      "True\n",
      "True\n",
      "False\n",
      "True\n",
      "False\n",
      "False\n"
     ]
    }
   ],
   "source": [
    "for i in nlp(text2):\n",
    "    print(i.is_stop)"
   ]
  },
  {
   "cell_type": "code",
   "execution_count": 40,
   "id": "0c060208-b963-4e27-80dc-3e86c7da7ab3",
   "metadata": {},
   "outputs": [
    {
     "data": {
      "text/plain": [
       "'not good movie'"
      ]
     },
     "execution_count": 40,
     "metadata": {},
     "output_type": "execute_result"
    }
   ],
   "source": [
    "preprocess(text2)"
   ]
  },
  {
   "cell_type": "code",
   "execution_count": 41,
   "id": "dcf74d51-06fe-427b-923d-4ea376f3d8dc",
   "metadata": {},
   "outputs": [
    {
     "data": {
      "text/plain": [
       "'good movie'"
      ]
     },
     "execution_count": 41,
     "metadata": {},
     "output_type": "execute_result"
    }
   ],
   "source": [
    "preprocess(text1)"
   ]
  },
  {
   "cell_type": "code",
   "execution_count": 82,
   "id": "70e54d2c-0791-489e-9fbc-cff5c9f24716",
   "metadata": {},
   "outputs": [
    {
     "name": "stdout",
     "output_type": "stream",
     "text": [
      "[India, men, national, cricket, team, known, Team, India, Men, Blue, represents, India, men, international, cricket, governed, Board, Control, Cricket, India, BCCI, Member, International, Cricket, Council, ICC, Test, Day, International, ODI, Twenty20, International, T20I, status, Cricket, introduced, India, British, sailors, 18th, century, cricket, club, established, 1792, India, national, cricket, team, played, Test, match, 25, June, 1932, Lord, sixth, team, granted, test, cricket, status]\n"
     ]
    },
    {
     "data": {
      "text/plain": [
       "{'india': 6,\n",
       " 'men': 3,\n",
       " 'national': 2,\n",
       " 'cricket': 8,\n",
       " 'team': 4,\n",
       " 'known': 1,\n",
       " 'blue': 1,\n",
       " 'represents': 1,\n",
       " 'international': 4,\n",
       " 'governed': 1,\n",
       " 'board': 1,\n",
       " 'control': 1,\n",
       " 'bcci': 1,\n",
       " 'member': 1,\n",
       " 'council': 1,\n",
       " 'icc': 1,\n",
       " 'test': 3,\n",
       " 'day': 1,\n",
       " 'odi': 1,\n",
       " 'twenty20': 1,\n",
       " 't20i': 1,\n",
       " 'status': 2,\n",
       " 'introduced': 1,\n",
       " 'british': 1,\n",
       " 'sailors': 1,\n",
       " '18th': 1,\n",
       " 'century': 1,\n",
       " 'club': 1,\n",
       " 'established': 1,\n",
       " '1792': 1,\n",
       " 'played': 1,\n",
       " 'match': 1,\n",
       " '25': 1,\n",
       " 'june': 1,\n",
       " '1932': 1,\n",
       " 'lord': 1,\n",
       " 'sixth': 1,\n",
       " 'granted': 1}"
      ]
     },
     "execution_count": 82,
     "metadata": {},
     "output_type": "execute_result"
    }
   ],
   "source": [
    "text3 = ''' The India men's national cricket team, also known as Team India or the Men in Blue, represents India in men's international cricket.\n",
    "It is governed by the Board of Control for Cricket in India (BCCI), and is a Full Member of the International Cricket Council (ICC) with Test,\n",
    "One Day International (ODI) and Twenty20 International (T20I) status. Cricket was introduced to India by British sailors in the 18th century, and the \n",
    "first cricket club was established in 1792. India's national cricket team played its first Test match on 25 June 1932 at Lord's, becoming the sixth team to be\n",
    "granted test cricket status.\n",
    "'''\n",
    "\n",
    "doc = nlp(text3)\n",
    "words = []\n",
    "for i in doc:\n",
    "    if i.is_stop or i.is_punct or i.is_space:\n",
    "        continue\n",
    "    else:\n",
    "        words.append(i)\n",
    "print(words)\n",
    "\n",
    "\n",
    "word_count = {}\n",
    "for word in words:\n",
    "    # sen = word.strip().lower()\n",
    "    if word.text.lower() not in word_count:\n",
    "        word_count[word.text.lower()] = 1\n",
    "    else:\n",
    "        word_count[word.text.lower()] += 1\n",
    "\n",
    "word_count"
   ]
  },
  {
   "cell_type": "code",
   "execution_count": 83,
   "id": "60da6289-28b4-4eff-b9ab-36fb19b0e8c3",
   "metadata": {},
   "outputs": [
    {
     "data": {
      "text/plain": [
       "3"
      ]
     },
     "execution_count": 83,
     "metadata": {},
     "output_type": "execute_result"
    }
   ],
   "source": [
    "list(word_count.values()).index(max(word_count.values()))"
   ]
  },
  {
   "cell_type": "code",
   "execution_count": 84,
   "id": "4d97f3de-48ef-4f29-8282-c8c3ce5eaf4a",
   "metadata": {},
   "outputs": [],
   "source": [
    "max_word_count = [(j, i) for i, j in word_count.items()]"
   ]
  },
  {
   "cell_type": "code",
   "execution_count": 93,
   "id": "3289323d-12d7-4327-968d-6df3e3bc490e",
   "metadata": {},
   "outputs": [
    {
     "data": {
      "text/plain": [
       "(8, 'cricket')"
      ]
     },
     "execution_count": 93,
     "metadata": {},
     "output_type": "execute_result"
    }
   ],
   "source": [
    "max(max_word_count)"
   ]
  },
  {
   "cell_type": "code",
   "execution_count": 91,
   "id": "98198838-817e-46a1-a539-7c87595a64d9",
   "metadata": {},
   "outputs": [
    {
     "data": {
      "text/plain": [
       "[(6, 'india'),\n",
       " (3, 'men'),\n",
       " (2, 'national'),\n",
       " (8, 'cricket'),\n",
       " (4, 'team'),\n",
       " (1, 'known'),\n",
       " (1, 'blue'),\n",
       " (1, 'represents'),\n",
       " (4, 'international'),\n",
       " (1, 'governed'),\n",
       " (1, 'board'),\n",
       " (1, 'control'),\n",
       " (1, 'bcci'),\n",
       " (1, 'member'),\n",
       " (1, 'council'),\n",
       " (1, 'icc'),\n",
       " (3, 'test'),\n",
       " (1, 'day'),\n",
       " (1, 'odi'),\n",
       " (1, 'twenty20'),\n",
       " (1, 't20i'),\n",
       " (2, 'status'),\n",
       " (1, 'introduced'),\n",
       " (1, 'british'),\n",
       " (1, 'sailors'),\n",
       " (1, '18th'),\n",
       " (1, 'century'),\n",
       " (1, 'club'),\n",
       " (1, 'established'),\n",
       " (1, '1792'),\n",
       " (1, 'played'),\n",
       " (1, 'match'),\n",
       " (1, '25'),\n",
       " (1, 'june'),\n",
       " (1, '1932'),\n",
       " (1, 'lord'),\n",
       " (1, 'sixth'),\n",
       " (1, 'granted')]"
      ]
     },
     "execution_count": 91,
     "metadata": {},
     "output_type": "execute_result"
    }
   ],
   "source": [
    "max_word_count"
   ]
  },
  {
   "cell_type": "code",
   "execution_count": null,
   "id": "c79b35c0-b35c-4d3b-a3b2-3b8dbf8b7ebf",
   "metadata": {},
   "outputs": [],
   "source": []
  }
 ],
 "metadata": {
  "kernelspec": {
   "display_name": "Python 3 (ipykernel)",
   "language": "python",
   "name": "python3"
  },
  "language_info": {
   "codemirror_mode": {
    "name": "ipython",
    "version": 3
   },
   "file_extension": ".py",
   "mimetype": "text/x-python",
   "name": "python",
   "nbconvert_exporter": "python",
   "pygments_lexer": "ipython3",
   "version": "3.10.10"
  },
  "widgets": {
   "application/vnd.jupyter.widget-state+json": {
    "state": {},
    "version_major": 2,
    "version_minor": 0
   }
  }
 },
 "nbformat": 4,
 "nbformat_minor": 5
}
