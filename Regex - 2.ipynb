{
 "cells": [
  {
   "cell_type": "code",
   "execution_count": 1,
   "id": "4755545b-19ac-42ed-addb-192e6eb42186",
   "metadata": {},
   "outputs": [],
   "source": [
    "import re"
   ]
  },
  {
   "cell_type": "markdown",
   "id": "7c21822d-93f3-44cb-b2bd-8c24c3ce200c",
   "metadata": {},
   "source": [
    "## use regex101 webpage to get pattern that matches our text then we will use python to extract that"
   ]
  },
  {
   "cell_type": "code",
   "execution_count": 5,
   "id": "26698d07-4ebe-4a55-b78f-2cba79848419",
   "metadata": {},
   "outputs": [],
   "source": [
    "text1 = \"this is possible with more and more practice we do 9092909295. we always have the way to find it out right? (132)-654-1234\"\n",
    "pattern1 = \"([0-9\\(\\)-]+)\""
   ]
  },
  {
   "cell_type": "code",
   "execution_count": 6,
   "id": "343d39ef-336f-4c5c-98d4-212660856e5e",
   "metadata": {},
   "outputs": [
    {
     "data": {
      "text/plain": [
       "['9092909295', '(132)-654-1234']"
      ]
     },
     "execution_count": 6,
     "metadata": {},
     "output_type": "execute_result"
    }
   ],
   "source": [
    "re.findall(pattern1, text1)"
   ]
  },
  {
   "cell_type": "code",
   "execution_count": 14,
   "id": "6324d7fa-edab-465d-a131-eb5f5e2fe16c",
   "metadata": {},
   "outputs": [],
   "source": [
    "text1 = \"this is possible with more and more practice we do 9092909295. we always have the way to find it out right? (132)-654-1234\"\n",
    "pattern2 = \"\\d{10}|\\(\\d{3}\\)-\\d{3}-\\d{4}\""
   ]
  },
  {
   "cell_type": "code",
   "execution_count": 15,
   "id": "a05a8795-1703-41d8-a761-bed9bb11d6ec",
   "metadata": {},
   "outputs": [
    {
     "data": {
      "text/plain": [
       "['9092909295', '(132)-654-1234']"
      ]
     },
     "execution_count": 15,
     "metadata": {},
     "output_type": "execute_result"
    }
   ],
   "source": [
    "re.findall(pattern2, text1)"
   ]
  },
  {
   "cell_type": "code",
   "execution_count": 16,
   "id": "b9639496-9c05-4974-828a-2e53b9d69948",
   "metadata": {},
   "outputs": [],
   "source": [
    "text3 = \"this is possible with more and more practice we do abc@xyz.com. we always have the way to find it out right? aBc_3432@klmn.com\"\n",
    "pattern3 = '[a-zA-Z0-9_]*@[a-z]*\\.[a-z]*'"
   ]
  },
  {
   "cell_type": "code",
   "execution_count": 17,
   "id": "51fa2abe-ff75-41d9-bc0d-6aa3f22cdf9f",
   "metadata": {},
   "outputs": [
    {
     "data": {
      "text/plain": [
       "['abc@xyz.com', 'aBc_3432@klmn.com']"
      ]
     },
     "execution_count": 17,
     "metadata": {},
     "output_type": "execute_result"
    }
   ],
   "source": [
    "re.findall(pattern3, text3)"
   ]
  },
  {
   "cell_type": "code",
   "execution_count": 18,
   "id": "9c2f3860-a800-4e8d-9a46-50fe7caa1f05",
   "metadata": {},
   "outputs": [],
   "source": [
    "text4 = \"I place my order yesterday Still it's not arrived. My order number is # 123456 My another order number is 098543 One more order i placed with number 369964 i think 678403 this is my order number\"\n",
    "pattern4 = \"order[^0-9]*(\\d*)\""
   ]
  },
  {
   "cell_type": "code",
   "execution_count": 19,
   "id": "c597576c-6d5d-415f-b76c-30d1b3004de7",
   "metadata": {},
   "outputs": [
    {
     "data": {
      "text/plain": [
       "['123456', '098543', '369964', '']"
      ]
     },
     "execution_count": 19,
     "metadata": {},
     "output_type": "execute_result"
    }
   ],
   "source": [
    "re.findall(pattern4, text4)"
   ]
  },
  {
   "cell_type": "code",
   "execution_count": 20,
   "id": "ebb10831-1784-4187-adef-7eb8e690a710",
   "metadata": {},
   "outputs": [],
   "source": [
    "pattern5 = \"order[^0-9]*(\\d*)|(\\d*)[^a-z]\""
   ]
  },
  {
   "cell_type": "code",
   "execution_count": 21,
   "id": "9ec2de3f-5460-4c93-9a0d-47a17ad30ffc",
   "metadata": {},
   "outputs": [
    {
     "data": {
      "text/plain": [
       "[('', ''),\n",
       " ('', ''),\n",
       " ('', ''),\n",
       " ('', ''),\n",
       " ('123456', ''),\n",
       " ('', ''),\n",
       " ('', ''),\n",
       " ('', ''),\n",
       " ('', ''),\n",
       " ('098543', ''),\n",
       " ('', ''),\n",
       " ('', ''),\n",
       " ('', ''),\n",
       " ('', ''),\n",
       " ('369964', ''),\n",
       " ('', ''),\n",
       " ('', ''),\n",
       " ('', ''),\n",
       " ('', '678403'),\n",
       " ('', ''),\n",
       " ('', ''),\n",
       " ('', ''),\n",
       " ('', '')]"
      ]
     },
     "execution_count": 21,
     "metadata": {},
     "output_type": "execute_result"
    }
   ],
   "source": [
    "re.findall(pattern5, text4)"
   ]
  },
  {
   "cell_type": "code",
   "execution_count": 22,
   "id": "7e40d37f-52f2-447f-97d6-bcc8c7703943",
   "metadata": {},
   "outputs": [],
   "source": [
    "text5 = \"\"\"the age will be like (age 23)\n",
    "then the age will be (age 24)\n",
    "after that the age will be (age 25)\"\"\"\n",
    "pattern5 = \"age\\s\\d+\""
   ]
  },
  {
   "cell_type": "code",
   "execution_count": 23,
   "id": "b563146e-ec3e-4368-988a-437e8ebf6d29",
   "metadata": {},
   "outputs": [
    {
     "data": {
      "text/plain": [
       "['age 23', 'age 24', 'age 25']"
      ]
     },
     "execution_count": 23,
     "metadata": {},
     "output_type": "execute_result"
    }
   ],
   "source": [
    "re.findall(pattern5, text5)"
   ]
  },
  {
   "cell_type": "code",
   "execution_count": 42,
   "id": "d679a0e4-f196-48bb-a377-5aced44d8c9c",
   "metadata": {},
   "outputs": [],
   "source": [
    "pattern6 = \"Born.([a-z\\s]*)[\\n]\"\n",
    "text6 = '''Born Elon Reeve Musk\n",
    "June 28, 1971 (age 53)\n",
    "Pretoria, Transvaal, South Africa'''"
   ]
  },
  {
   "cell_type": "code",
   "execution_count": 43,
   "id": "fdafd045-fdf8-4e9e-b7b7-fe27613f2468",
   "metadata": {},
   "outputs": [
    {
     "data": {
      "text/plain": [
       "['Elon Reeve Musk']"
      ]
     },
     "execution_count": 43,
     "metadata": {},
     "output_type": "execute_result"
    }
   ],
   "source": [
    "re.findall(pattern6, text6, flags = re.IGNORECASE)"
   ]
  },
  {
   "cell_type": "code",
   "execution_count": 44,
   "id": "987e77ce-826c-488a-8da9-ae2087279740",
   "metadata": {},
   "outputs": [],
   "source": [
    "pattern7 = \"\\(age\\s\\d*\\)\\n(.*),\""
   ]
  },
  {
   "cell_type": "code",
   "execution_count": 46,
   "id": "f4a0e133-7f45-4eac-a199-76cdc58105a4",
   "metadata": {},
   "outputs": [
    {
     "data": {
      "text/plain": [
       "['Pretoria, Transvaal']"
      ]
     },
     "execution_count": 46,
     "metadata": {},
     "output_type": "execute_result"
    }
   ],
   "source": [
    "re.findall(pattern7, text6)"
   ]
  },
  {
   "cell_type": "code",
   "execution_count": null,
   "id": "7cab30e2-7328-419e-84f4-4905eae4bef9",
   "metadata": {},
   "outputs": [],
   "source": []
  }
 ],
 "metadata": {
  "kernelspec": {
   "display_name": "Python 3 (ipykernel)",
   "language": "python",
   "name": "python3"
  },
  "language_info": {
   "codemirror_mode": {
    "name": "ipython",
    "version": 3
   },
   "file_extension": ".py",
   "mimetype": "text/x-python",
   "name": "python",
   "nbconvert_exporter": "python",
   "pygments_lexer": "ipython3",
   "version": "3.10.10"
  },
  "widgets": {
   "application/vnd.jupyter.widget-state+json": {
    "state": {},
    "version_major": 2,
    "version_minor": 0
   }
  }
 },
 "nbformat": 4,
 "nbformat_minor": 5
}
