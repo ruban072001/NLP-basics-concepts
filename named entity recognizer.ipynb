{
 "cells": [
  {
   "cell_type": "code",
   "execution_count": 2,
   "id": "a344ea37-7b8f-4ae0-849f-72b84bbccc23",
   "metadata": {},
   "outputs": [],
   "source": [
    "import spacy"
   ]
  },
  {
   "cell_type": "code",
   "execution_count": 3,
   "id": "e715c610-a890-477f-b54b-240ecda86765",
   "metadata": {},
   "outputs": [],
   "source": [
    "text = \"Ruban founded Inbu in 2029\"\n",
    "nlp = spacy.load(\"en_core_web_sm\")\n",
    "word = nlp(text)"
   ]
  },
  {
   "cell_type": "code",
   "execution_count": 7,
   "id": "880eea00-0ec1-4bac-801a-7dde38294da2",
   "metadata": {},
   "outputs": [
    {
     "name": "stdout",
     "output_type": "stream",
     "text": [
      "Ruban ==> ORG\n",
      "2029 ==> DATE\n"
     ]
    }
   ],
   "source": [
    "for i in word.ents:\n",
    "    print(i, \"==>\", i.label_)"
   ]
  },
  {
   "cell_type": "code",
   "execution_count": 9,
   "id": "e1da6b24-b1a4-4c54-a7d2-8e7cb0219e04",
   "metadata": {},
   "outputs": [
    {
     "data": {
      "text/html": [
       "<span class=\"tex2jax_ignore\"><div class=\"entities\" style=\"line-height: 2.5; direction: ltr\">\n",
       "<mark class=\"entity\" style=\"background: #7aecec; padding: 0.45em 0.6em; margin: 0 0.25em; line-height: 1; border-radius: 0.35em;\">\n",
       "    Ruban\n",
       "    <span style=\"font-size: 0.8em; font-weight: bold; line-height: 1; border-radius: 0.35em; vertical-align: middle; margin-left: 0.5rem\">ORG</span>\n",
       "</mark>\n",
       " founded Inbu in \n",
       "<mark class=\"entity\" style=\"background: #bfe1d9; padding: 0.45em 0.6em; margin: 0 0.25em; line-height: 1; border-radius: 0.35em;\">\n",
       "    2029\n",
       "    <span style=\"font-size: 0.8em; font-weight: bold; line-height: 1; border-radius: 0.35em; vertical-align: middle; margin-left: 0.5rem\">DATE</span>\n",
       "</mark>\n",
       "</div></span>"
      ],
      "text/plain": [
       "<IPython.core.display.HTML object>"
      ]
     },
     "metadata": {},
     "output_type": "display_data"
    }
   ],
   "source": [
    "from spacy import displacy\n",
    "\n",
    "displacy.render(word, style=\"ent\")"
   ]
  },
  {
   "cell_type": "code",
   "execution_count": 11,
   "id": "0557c1ee-df14-4021-bb21-212d70d72cd2",
   "metadata": {},
   "outputs": [
    {
     "data": {
      "text/plain": [
       "['CARDINAL',\n",
       " 'DATE',\n",
       " 'EVENT',\n",
       " 'FAC',\n",
       " 'GPE',\n",
       " 'LANGUAGE',\n",
       " 'LAW',\n",
       " 'LOC',\n",
       " 'MONEY',\n",
       " 'NORP',\n",
       " 'ORDINAL',\n",
       " 'ORG',\n",
       " 'PERCENT',\n",
       " 'PERSON',\n",
       " 'PRODUCT',\n",
       " 'QUANTITY',\n",
       " 'TIME',\n",
       " 'WORK_OF_ART']"
      ]
     },
     "execution_count": 11,
     "metadata": {},
     "output_type": "execute_result"
    }
   ],
   "source": [
    "nlp.pipe_labels[\"ner\"]"
   ]
  },
  {
   "cell_type": "code",
   "execution_count": 13,
   "id": "d636619d-a1df-4280-8a41-0939f37e51b2",
   "metadata": {},
   "outputs": [],
   "source": [
    "from spacy.tokens import Span\n",
    "\n",
    "span1 = Span(word, 0, 1, label=\"PERSON\")\n",
    "span2 = Span(word, 2, 3, label=\"ORG\")\n",
    "\n",
    "word.set_ents([span1, span2], default=\"unmodified\")"
   ]
  },
  {
   "cell_type": "code",
   "execution_count": 14,
   "id": "d748c5f2-9983-4768-9347-e82f6a8b26ae",
   "metadata": {},
   "outputs": [
    {
     "name": "stdout",
     "output_type": "stream",
     "text": [
      "Ruban ==> PERSON\n",
      "Inbu ==> ORG\n",
      "2029 ==> DATE\n"
     ]
    }
   ],
   "source": [
    "for i in word.ents:\n",
    "    print(i.text, \"==>\", i.label_)"
   ]
  },
  {
   "cell_type": "code",
   "execution_count": 15,
   "id": "1e73a1a7-fee8-4728-b417-8cbc3143981f",
   "metadata": {},
   "outputs": [
    {
     "data": {
      "text/html": [
       "<span class=\"tex2jax_ignore\"><div class=\"entities\" style=\"line-height: 2.5; direction: ltr\">\n",
       "<mark class=\"entity\" style=\"background: #aa9cfc; padding: 0.45em 0.6em; margin: 0 0.25em; line-height: 1; border-radius: 0.35em;\">\n",
       "    Ruban\n",
       "    <span style=\"font-size: 0.8em; font-weight: bold; line-height: 1; border-radius: 0.35em; vertical-align: middle; margin-left: 0.5rem\">PERSON</span>\n",
       "</mark>\n",
       " founded \n",
       "<mark class=\"entity\" style=\"background: #7aecec; padding: 0.45em 0.6em; margin: 0 0.25em; line-height: 1; border-radius: 0.35em;\">\n",
       "    Inbu\n",
       "    <span style=\"font-size: 0.8em; font-weight: bold; line-height: 1; border-radius: 0.35em; vertical-align: middle; margin-left: 0.5rem\">ORG</span>\n",
       "</mark>\n",
       " in \n",
       "<mark class=\"entity\" style=\"background: #bfe1d9; padding: 0.45em 0.6em; margin: 0 0.25em; line-height: 1; border-radius: 0.35em;\">\n",
       "    2029\n",
       "    <span style=\"font-size: 0.8em; font-weight: bold; line-height: 1; border-radius: 0.35em; vertical-align: middle; margin-left: 0.5rem\">DATE</span>\n",
       "</mark>\n",
       "</div></span>"
      ],
      "text/plain": [
       "<IPython.core.display.HTML object>"
      ]
     },
     "metadata": {},
     "output_type": "display_data"
    }
   ],
   "source": [
    "displacy.render(word, style=\"ent\")"
   ]
  },
  {
   "cell_type": "markdown",
   "id": "53e2226b-b114-43fe-8077-ab2369b7a396",
   "metadata": {},
   "source": [
    "# Exercise\n"
   ]
  },
  {
   "cell_type": "code",
   "execution_count": 16,
   "id": "e1ab959c-e7aa-4baa-8977-2c52f21a3ecb",
   "metadata": {},
   "outputs": [],
   "source": [
    "text = \"\"\"Kiran want to know the famous foods in each state of India. So, he opened Google and search for this question. Google showed that\n",
    "in Delhi it is Chaat, in Gujarat it is Dal Dhokli, in Tamilnadu it is Pongal, in Andhrapradesh it is Biryani, in Assam it is Papaya Khar,\n",
    "in Bihar it is Litti Chowkha and so on for all other states\"\"\"\n",
    "word = nlp(text)"
   ]
  },
  {
   "cell_type": "code",
   "execution_count": 17,
   "id": "24b48ea8-bccb-4fac-91da-6972c6650ef3",
   "metadata": {},
   "outputs": [
    {
     "name": "stdout",
     "output_type": "stream",
     "text": [
      "Kiran ==> GPE\n",
      "India ==> GPE\n",
      "Google ==> ORG\n",
      "Google ==> ORG\n",
      "Delhi ==> GPE\n",
      "Chaat ==> ORG\n",
      "Gujarat ==> GPE\n",
      "Dal Dhokli ==> PERSON\n",
      "Tamilnadu ==> GPE\n",
      "Pongal ==> PERSON\n",
      "Andhrapradesh ==> GPE\n",
      "Biryani ==> PERSON\n",
      "Assam ==> GPE\n",
      "Papaya Khar ==> PERSON\n",
      "Bihar ==> GPE\n",
      "Litti Chowkha ==> ORG\n"
     ]
    }
   ],
   "source": [
    "for i in word.ents:\n",
    "    print(i, \"==>\", i.label_)"
   ]
  },
  {
   "cell_type": "code",
   "execution_count": 18,
   "id": "85cc761a-9b50-4370-908d-65c3b5005e26",
   "metadata": {},
   "outputs": [],
   "source": [
    "locations = []\n",
    "for i in word.ents:\n",
    "    if i.label_ == \"GPE\":\n",
    "        locations.append(i)"
   ]
  },
  {
   "cell_type": "code",
   "execution_count": 19,
   "id": "25549b7c-e2eb-4e63-8c98-f354b6711364",
   "metadata": {},
   "outputs": [
    {
     "data": {
      "text/plain": [
       "[Kiran, India, Delhi, Gujarat, Tamilnadu, Andhrapradesh, Assam, Bihar]"
      ]
     },
     "execution_count": 19,
     "metadata": {},
     "output_type": "execute_result"
    }
   ],
   "source": [
    "locations"
   ]
  },
  {
   "cell_type": "code",
   "execution_count": 20,
   "id": "508a8ace-3780-45ef-a308-02b1604caac9",
   "metadata": {},
   "outputs": [],
   "source": [
    "text2 = \"\"\"Sachin Tendulkar was born on 24 April 1973, Virat Kholi was born on 5 November 1988, Dhoni was born on 7 July 1981\n",
    "and finally Ricky ponting was born on 19 December 1974.\"\"\"\n",
    "word2 = nlp(text2)"
   ]
  },
  {
   "cell_type": "code",
   "execution_count": 22,
   "id": "66fb6f5b-5f7d-45d6-9a4d-6ea6c4f2030e",
   "metadata": {},
   "outputs": [
    {
     "name": "stdout",
     "output_type": "stream",
     "text": [
      "Sachin Tendulkar ==> PERSON\n",
      "24 April 1973 ==> DATE\n",
      "Virat Kholi ==> ORG\n",
      "5 November 1988 ==> DATE\n",
      "Dhoni ==> PERSON\n",
      "7 July 1981 ==> DATE\n",
      "Ricky ==> PERSON\n",
      "19 December 1974 ==> DATE\n"
     ]
    }
   ],
   "source": [
    "for i in word2.ents:\n",
    "    print(i, \"==>\", i.label_)"
   ]
  },
  {
   "cell_type": "code",
   "execution_count": 23,
   "id": "2326d4da-5d14-458e-86e1-5d1edb4a1b3c",
   "metadata": {},
   "outputs": [],
   "source": [
    "dob = []\n",
    "for i in word2.ents:\n",
    "    if i.label_ == \"DATE\":\n",
    "        dob.append(i)"
   ]
  },
  {
   "cell_type": "code",
   "execution_count": 24,
   "id": "d42498f6-b427-4389-acf5-8fbff573b33c",
   "metadata": {},
   "outputs": [
    {
     "data": {
      "text/plain": [
       "[24 April 1973, 5 November 1988, 7 July 1981, 19 December 1974]"
      ]
     },
     "execution_count": 24,
     "metadata": {},
     "output_type": "execute_result"
    }
   ],
   "source": [
    "dob"
   ]
  },
  {
   "cell_type": "code",
   "execution_count": null,
   "id": "7584c259-9b47-4efd-9f66-9a2387f5987a",
   "metadata": {},
   "outputs": [],
   "source": []
  }
 ],
 "metadata": {
  "kernelspec": {
   "display_name": "Python 3 (ipykernel)",
   "language": "python",
   "name": "python3"
  },
  "language_info": {
   "codemirror_mode": {
    "name": "ipython",
    "version": 3
   },
   "file_extension": ".py",
   "mimetype": "text/x-python",
   "name": "python",
   "nbconvert_exporter": "python",
   "pygments_lexer": "ipython3",
   "version": "3.10.10"
  },
  "widgets": {
   "application/vnd.jupyter.widget-state+json": {
    "state": {},
    "version_major": 2,
    "version_minor": 0
   }
  }
 },
 "nbformat": 4,
 "nbformat_minor": 5
}
