{
 "cells": [
  {
   "cell_type": "code",
   "execution_count": 1,
   "id": "38aabb30-72a7-4c28-950f-9105ef7ba2f3",
   "metadata": {},
   "outputs": [],
   "source": [
    "import spacy"
   ]
  },
  {
   "cell_type": "code",
   "execution_count": 6,
   "id": "8c13c0ee-16a7-4c30-8a4d-72709000e180",
   "metadata": {},
   "outputs": [
    {
     "name": "stdout",
     "output_type": "stream",
     "text": [
      "Sometimes | ADV | adverb\n",
      "i | PRON | pronoun\n",
      "got | VERB | verb\n",
      "scary | ADJ | adjective\n",
      ". | PUNCT | punctuation\n",
      "But | CCONJ | coordinating conjunction\n",
      "inside | ADP | adposition\n",
      "me | PRON | pronoun\n",
      "motivate | VERB | verb\n",
      "me | PRON | pronoun\n",
      ". | PUNCT | punctuation\n",
      "You | PRON | pronoun\n",
      "came | VERB | verb\n",
      "till | SCONJ | subordinating conjunction\n",
      "this | DET | determiner\n",
      "point | NOUN | noun\n",
      "and | CCONJ | coordinating conjunction\n",
      "you | PRON | pronoun\n",
      "have | VERB | verb\n",
      "the | DET | determiner\n",
      "ability | NOUN | noun\n",
      "to | PART | particle\n",
      "go | VERB | verb\n",
      "further | ADV | adverb\n",
      "! | PUNCT | punctuation\n"
     ]
    }
   ],
   "source": [
    "nlp = spacy.load('en_core_web_sm')\n",
    "text = \"Sometimes i got scary. But inside me motivate me. You came till this point and you have the ability to go further!\"\n",
    "word = nlp(text)\n",
    "for i in word:\n",
    "    print(i, \"|\", i.pos_, \"|\", spacy.explain(i.pos_))"
   ]
  },
  {
   "cell_type": "code",
   "execution_count": 8,
   "id": "4dfac0f9-b169-449e-aea6-2f28719b5d43",
   "metadata": {},
   "outputs": [
    {
     "name": "stdout",
     "output_type": "stream",
     "text": [
      "Sometimes ==> ADV ==> RB ==> adverb\n",
      "i ==> PRON ==> PRP ==> pronoun, personal\n",
      "got ==> VERB ==> VBD ==> verb, past tense\n",
      "scary ==> ADJ ==> JJ ==> adjective (English), other noun-modifier (Chinese)\n",
      ". ==> PUNCT ==> . ==> punctuation mark, sentence closer\n",
      "But ==> CCONJ ==> CC ==> conjunction, coordinating\n",
      "inside ==> ADP ==> IN ==> conjunction, subordinating or preposition\n",
      "me ==> PRON ==> PRP ==> pronoun, personal\n",
      "motivate ==> VERB ==> VBP ==> verb, non-3rd person singular present\n",
      "me ==> PRON ==> PRP ==> pronoun, personal\n",
      ". ==> PUNCT ==> . ==> punctuation mark, sentence closer\n",
      "You ==> PRON ==> PRP ==> pronoun, personal\n",
      "came ==> VERB ==> VBD ==> verb, past tense\n",
      "till ==> SCONJ ==> IN ==> conjunction, subordinating or preposition\n",
      "this ==> DET ==> DT ==> determiner\n",
      "point ==> NOUN ==> NN ==> noun, singular or mass\n",
      "and ==> CCONJ ==> CC ==> conjunction, coordinating\n",
      "you ==> PRON ==> PRP ==> pronoun, personal\n",
      "have ==> VERB ==> VBP ==> verb, non-3rd person singular present\n",
      "the ==> DET ==> DT ==> determiner\n",
      "ability ==> NOUN ==> NN ==> noun, singular or mass\n",
      "to ==> PART ==> TO ==> infinitival \"to\"\n",
      "go ==> VERB ==> VB ==> verb, base form\n",
      "further ==> ADV ==> RB ==> adverb\n",
      "! ==> PUNCT ==> . ==> punctuation mark, sentence closer\n"
     ]
    }
   ],
   "source": [
    "for i in word:\n",
    "    print(i, \"==>\", i.pos_, \"==>\", i.tag_, \"==>\", spacy.explain(i.tag_))"
   ]
  },
  {
   "cell_type": "code",
   "execution_count": 9,
   "id": "72b7b192-ca6b-43e5-80aa-b035f9f80def",
   "metadata": {},
   "outputs": [
    {
     "name": "stdout",
     "output_type": "stream",
     "text": [
      "Sometimes ==> ADV\n",
      "i ==> PRON\n",
      "got ==> VERB\n",
      "scary ==> ADJ\n",
      "But ==> CCONJ\n",
      "inside ==> ADP\n",
      "me ==> PRON\n",
      "motivate ==> VERB\n",
      "me ==> PRON\n",
      "You ==> PRON\n",
      "came ==> VERB\n",
      "till ==> SCONJ\n",
      "this ==> DET\n",
      "point ==> NOUN\n",
      "and ==> CCONJ\n",
      "you ==> PRON\n",
      "have ==> VERB\n",
      "the ==> DET\n",
      "ability ==> NOUN\n",
      "to ==> PART\n",
      "go ==> VERB\n",
      "further ==> ADV\n"
     ]
    }
   ],
   "source": [
    "for i in word:\n",
    "    if i.pos_ not in ['PUNCT', \"X\"]:\n",
    "        print(i, \"==>\", i.pos_)"
   ]
  },
  {
   "cell_type": "code",
   "execution_count": 19,
   "id": "2066c711-349c-4ada-a02f-fb9e87fdf002",
   "metadata": {},
   "outputs": [
    {
     "data": {
      "text/plain": [
       "{86: 2, 95: 5, 100: 5, 84: 1, 97: 3, 89: 2, 85: 1, 98: 1, 90: 2, 92: 2, 94: 1}"
      ]
     },
     "execution_count": 19,
     "metadata": {},
     "output_type": "execute_result"
    }
   ],
   "source": [
    "words = word.count_by(spacy.attrs.POS)\n",
    "words"
   ]
  },
  {
   "cell_type": "code",
   "execution_count": 11,
   "id": "327dcbce-919c-4da1-bfc1-818ac63097f5",
   "metadata": {},
   "outputs": [
    {
     "data": {
      "text/plain": [
       "{0: 22, 1: 3}"
      ]
     },
     "execution_count": 11,
     "metadata": {},
     "output_type": "execute_result"
    }
   ],
   "source": [
    "word.count_by(spacy.attrs.IS_PUNCT)"
   ]
  },
  {
   "cell_type": "code",
   "execution_count": 12,
   "id": "5f542ea6-44db-4d6e-818e-94a297d384ff",
   "metadata": {},
   "outputs": [
    {
     "data": {
      "text/plain": [
       "{1: 22, 0: 3}"
      ]
     },
     "execution_count": 12,
     "metadata": {},
     "output_type": "execute_result"
    }
   ],
   "source": [
    "word.count_by(spacy.attrs.IS_ALPHA)"
   ]
  },
  {
   "cell_type": "code",
   "execution_count": 17,
   "id": "4522937f-8ab1-4dcc-9102-d683896cd86c",
   "metadata": {},
   "outputs": [
    {
     "data": {
      "text/plain": [
       "'PRON'"
      ]
     },
     "execution_count": 17,
     "metadata": {},
     "output_type": "execute_result"
    }
   ],
   "source": [
    "word.vocab[95].text"
   ]
  },
  {
   "cell_type": "code",
   "execution_count": 25,
   "id": "689d1531-4310-46b4-88d5-7f3c3492a9aa",
   "metadata": {},
   "outputs": [
    {
     "name": "stdout",
     "output_type": "stream",
     "text": [
      "ADV ==> 2\n",
      "PRON ==> 5\n",
      "VERB ==> 5\n",
      "ADJ ==> 1\n",
      "PUNCT ==> 3\n",
      "CCONJ ==> 2\n",
      "ADP ==> 1\n",
      "SCONJ ==> 1\n",
      "DET ==> 2\n",
      "NOUN ==> 2\n",
      "PART ==> 1\n"
     ]
    }
   ],
   "source": [
    "for i, v in words.items():\n",
    "    vocab = word.vocab[i]\n",
    "    print(vocab.text, \"==>\", v)"
   ]
  },
  {
   "cell_type": "markdown",
   "id": "8bce52e4-ef39-442f-bae5-14c2c1eaa13b",
   "metadata": {},
   "source": [
    "# Exercise"
   ]
  },
  {
   "cell_type": "code",
   "execution_count": 26,
   "id": "f20d71db-3eb3-474f-b2a6-78bffdb29ccf",
   "metadata": {},
   "outputs": [],
   "source": [
    "import spacy"
   ]
  },
  {
   "cell_type": "code",
   "execution_count": 28,
   "id": "80995e58-5298-44f3-9476-39479b654043",
   "metadata": {},
   "outputs": [
    {
     "data": {
      "text/plain": [
       "['Inflation rose again in April, continuing a climb that has pushed consumers to the brink and is threatening the economic expansion, the Bureau of Labor Statistics reported Wednesday.\\n',\n",
       " '\\n',\n",
       " 'The consumer price index, a broad-based measure of prices for goods and services, increased 8.3% from a year ago, higher than the Dow Jones estimate for an 8.1% gain. That represented a slight ease from Marchâ€™s peak but was still close to the highest level since the summer of 1982.\\n',\n",
       " '\\n',\n",
       " 'Removing volatile food and energy prices, so-called core CPI still rose 6.2%, against expectations for a 6% gain, clouding hopes that inflation had peaked in March.\\n',\n",
       " '\\n',\n",
       " 'The month-over-month gains also were higher than expectations â€” 0.3% on headline CPI versus the 0.2% estimate and a 0.6% increase for core, against the outlook for a 0.4% gain.\\n',\n",
       " '\\n',\n",
       " 'The price gains also meant that workers continued to lose ground. Real wages adjusted for inflation decreased 0.1% on the month despite a nominal increase of 0.3% in average hourly earnings. Over the past year, real earnings have dropped 2.6% even though average hourly earnings are up 5.5%.\\n',\n",
       " '\\n',\n",
       " 'Inflation has been the single biggest threat to a recovery that began early in the Covid pandemic and saw the economy in 2021 stage its biggest single-year growth level since 1984. Rising prices at the pump and in grocery stores have been one problem, but inflation has spread beyond those two areas into housing, auto sales and a host of other areas.\\n',\n",
       " '\\n',\n",
       " 'Federal Reserve officials have responded to the problem with two interest rate hikes so far this year and pledges of more until inflation comes down to the central bankâ€™s 2% goal. However, Wednesdayâ€™s data shows that the Fed has a big job ahead.\\n',\n",
       " '\\n',\n",
       " 'Credits: cnbc.com']"
      ]
     },
     "execution_count": 28,
     "metadata": {},
     "output_type": "execute_result"
    }
   ],
   "source": [
    "with open(\"./nlp-assests/news_story.txt\", 'r') as f:\n",
    "    text = f.readlines()\n",
    "text"
   ]
  },
  {
   "cell_type": "code",
   "execution_count": 32,
   "id": "4efd66da-9f1d-4dca-9f39-66995eae852f",
   "metadata": {},
   "outputs": [],
   "source": [
    "sentence = \" \".join(text)\n",
    "nlp = spacy.load('en_core_web_sm')\n",
    "sentences = nlp(sentence)"
   ]
  },
  {
   "cell_type": "code",
   "execution_count": 35,
   "id": "8780e27a-8a03-4405-b352-5c3ceadd3fea",
   "metadata": {
    "scrolled": true
   },
   "outputs": [
    {
     "data": {
      "text/plain": [
       "[Inflation,\n",
       " climb,\n",
       " consumers,\n",
       " brink,\n",
       " expansion,\n",
       " consumer,\n",
       " price,\n",
       " index,\n",
       " measure,\n",
       " prices,\n",
       " goods,\n",
       " services,\n",
       " %,\n",
       " year,\n",
       " estimate,\n",
       " %,\n",
       " gain,\n",
       " ease,\n",
       " peak,\n",
       " level,\n",
       " summer,\n",
       " food,\n",
       " energy,\n",
       " prices,\n",
       " core,\n",
       " %,\n",
       " expectations,\n",
       " %,\n",
       " gain,\n",
       " hopes,\n",
       " inflation,\n",
       " month,\n",
       " month,\n",
       " gains,\n",
       " expectations,\n",
       " %,\n",
       " headline,\n",
       " %,\n",
       " estimate,\n",
       " %,\n",
       " increase,\n",
       " core,\n",
       " outlook,\n",
       " %,\n",
       " gain,\n",
       " price,\n",
       " gains,\n",
       " workers,\n",
       " ground,\n",
       " wages,\n",
       " inflation,\n",
       " %,\n",
       " month,\n",
       " increase,\n",
       " %,\n",
       " earnings,\n",
       " year,\n",
       " earnings,\n",
       " %,\n",
       " earnings,\n",
       " %,\n",
       " threat,\n",
       " recovery,\n",
       " pandemic,\n",
       " economy,\n",
       " stage,\n",
       " year,\n",
       " growth,\n",
       " level,\n",
       " prices,\n",
       " pump,\n",
       " grocery,\n",
       " stores,\n",
       " problem,\n",
       " inflation,\n",
       " areas,\n",
       " housing,\n",
       " auto,\n",
       " sales,\n",
       " host,\n",
       " areas,\n",
       " officials,\n",
       " problem,\n",
       " interest,\n",
       " rate,\n",
       " hikes,\n",
       " year,\n",
       " pledges,\n",
       " inflation,\n",
       " %,\n",
       " goal,\n",
       " ™,\n",
       " data,\n",
       " job,\n",
       " Credits]"
      ]
     },
     "execution_count": 35,
     "metadata": {},
     "output_type": "execute_result"
    }
   ],
   "source": [
    "noun = []\n",
    "for sent in sentences:\n",
    "    if sent.pos_ == \"NOUN\":\n",
    "        noun.append(sent)\n",
    "noun"
   ]
  },
  {
   "cell_type": "code",
   "execution_count": 38,
   "id": "bbd9f36c-6882-46f8-8d4b-e3c87d5d9ac8",
   "metadata": {
    "scrolled": true
   },
   "outputs": [
    {
     "data": {
      "text/plain": [
       "[8.3,\n",
       " 8.1,\n",
       " 1982,\n",
       " 6.2,\n",
       " 6,\n",
       " 0.3,\n",
       " 0.2,\n",
       " 0.6,\n",
       " 0.4,\n",
       " 0.1,\n",
       " 0.3,\n",
       " 2.6,\n",
       " 5.5,\n",
       " 2021,\n",
       " 1984,\n",
       " one,\n",
       " two,\n",
       " two,\n",
       " 2]"
      ]
     },
     "execution_count": 38,
     "metadata": {},
     "output_type": "execute_result"
    }
   ],
   "source": [
    "numbers = []\n",
    "for num in sentences:\n",
    "    if num.pos_ == \"NUM\":\n",
    "        numbers.append(num)\n",
    "\n",
    "numbers"
   ]
  },
  {
   "cell_type": "code",
   "execution_count": 40,
   "id": "813a85b3-57dd-4238-ae60-66fc3ce5a633",
   "metadata": {},
   "outputs": [],
   "source": [
    "counts = sentences.count_by(spacy.attrs.POS)"
   ]
  },
  {
   "cell_type": "code",
   "execution_count": 42,
   "id": "e5af2bc1-a137-4346-b39b-ce38e5b07f7d",
   "metadata": {},
   "outputs": [
    {
     "data": {
      "text/plain": [
       "{'NOUN': 95,\n",
       " 'VERB': 27,\n",
       " 'ADV': 15,\n",
       " 'ADP': 39,\n",
       " 'PROPN': 21,\n",
       " 'PUNCT': 32,\n",
       " 'DET': 34,\n",
       " 'PRON': 4,\n",
       " 'AUX': 13,\n",
       " 'CCONJ': 10,\n",
       " 'ADJ': 23,\n",
       " 'SPACE': 7,\n",
       " 'NUM': 19,\n",
       " 'PART': 4,\n",
       " 'SCONJ': 8,\n",
       " 'X': 1}"
      ]
     },
     "execution_count": 42,
     "metadata": {},
     "output_type": "execute_result"
    }
   ],
   "source": [
    "pos_count = {}\n",
    "for noun, count in counts.items():\n",
    "    vocab = sentences.vocab[noun]\n",
    "    pos_count[vocab.text] = count\n",
    "pos_count"
   ]
  },
  {
   "cell_type": "code",
   "execution_count": null,
   "id": "b68d1374-67c4-463d-9c13-1c284ce4435b",
   "metadata": {},
   "outputs": [],
   "source": []
  }
 ],
 "metadata": {
  "kernelspec": {
   "display_name": "Python 3 (ipykernel)",
   "language": "python",
   "name": "python3"
  },
  "language_info": {
   "codemirror_mode": {
    "name": "ipython",
    "version": 3
   },
   "file_extension": ".py",
   "mimetype": "text/x-python",
   "name": "python",
   "nbconvert_exporter": "python",
   "pygments_lexer": "ipython3",
   "version": "3.10.10"
  },
  "widgets": {
   "application/vnd.jupyter.widget-state+json": {
    "state": {},
    "version_major": 2,
    "version_minor": 0
   }
  }
 },
 "nbformat": 4,
 "nbformat_minor": 5
}
