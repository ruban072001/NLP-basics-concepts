{
 "cells": [
  {
   "cell_type": "code",
   "execution_count": 1,
   "id": "8070bf6a-00e4-4a38-a2a9-da208c61421d",
   "metadata": {},
   "outputs": [],
   "source": [
    "import spacy\n",
    "import nltk"
   ]
  },
  {
   "cell_type": "code",
   "execution_count": 13,
   "id": "f0602364-3642-4584-8192-c05a0b9f3801",
   "metadata": {},
   "outputs": [],
   "source": [
    "nlp = spacy.load(\"en_core_web_sm\")  # loding the small model\n",
    "sentences = nlp('this is Mr. Ruban here. He is the one going to change the world!.')"
   ]
  },
  {
   "cell_type": "code",
   "execution_count": 14,
   "id": "808f8efb-6aee-4f2a-b36c-11d27ef45e88",
   "metadata": {},
   "outputs": [
    {
     "name": "stdout",
     "output_type": "stream",
     "text": [
      "this is Mr. Ruban here.\n",
      "He is the one going to change the world!.\n"
     ]
    }
   ],
   "source": [
    "for sentence in sentences.sents:\n",
    "    print(sentence)"
   ]
  },
  {
   "cell_type": "code",
   "execution_count": 15,
   "id": "3c0863ef-c98d-4c89-bdff-f429f56007fd",
   "metadata": {},
   "outputs": [
    {
     "name": "stdout",
     "output_type": "stream",
     "text": [
      "this\n",
      "is\n",
      "Mr.\n",
      "Ruban\n",
      "here\n",
      ".\n",
      "He\n",
      "is\n",
      "the\n",
      "one\n",
      "going\n",
      "to\n",
      "change\n",
      "the\n",
      "world\n",
      "!\n",
      ".\n"
     ]
    }
   ],
   "source": [
    "for sentence in sentences.sents:\n",
    "    for words in sentence:\n",
    "        print(words)"
   ]
  },
  {
   "cell_type": "code",
   "execution_count": 11,
   "id": "a80a68d2-2e95-45e5-8c36-6c203d652374",
   "metadata": {},
   "outputs": [
    {
     "name": "stderr",
     "output_type": "stream",
     "text": [
      "[nltk_data] Downloading package punkt_tab to\n",
      "[nltk_data]     C:\\Users\\KIRUBA\\AppData\\Roaming\\nltk_data...\n",
      "[nltk_data]   Package punkt_tab is already up-to-date!\n"
     ]
    },
    {
     "data": {
      "text/plain": [
       "True"
      ]
     },
     "execution_count": 11,
     "metadata": {},
     "output_type": "execute_result"
    }
   ],
   "source": [
    "from nltk.tokenize import sent_tokenize\n",
    "nltk.download('punkt_tab')    # if we are using nltk for the first time, we need to install it."
   ]
  },
  {
   "cell_type": "code",
   "execution_count": 12,
   "id": "067a5169-d1ce-4aa6-93c6-43537cbbec3a",
   "metadata": {},
   "outputs": [
    {
     "data": {
      "text/plain": [
       "['this is Mr. Ruban here.', 'He is the one going to change the world!.']"
      ]
     },
     "execution_count": 12,
     "metadata": {},
     "output_type": "execute_result"
    }
   ],
   "source": [
    "sent_tokenize('this is Mr. Ruban here. He is the one going to change the world!.')"
   ]
  },
  {
   "cell_type": "code",
   "execution_count": null,
   "id": "15b03385-0e55-4eca-8a8f-cc9adec8d5cb",
   "metadata": {},
   "outputs": [],
   "source": []
  }
 ],
 "metadata": {
  "kernelspec": {
   "display_name": "Python 3 (ipykernel)",
   "language": "python",
   "name": "python3"
  },
  "language_info": {
   "codemirror_mode": {
    "name": "ipython",
    "version": 3
   },
   "file_extension": ".py",
   "mimetype": "text/x-python",
   "name": "python",
   "nbconvert_exporter": "python",
   "pygments_lexer": "ipython3",
   "version": "3.10.10"
  },
  "widgets": {
   "application/vnd.jupyter.widget-state+json": {
    "state": {},
    "version_major": 2,
    "version_minor": 0
   }
  }
 },
 "nbformat": 4,
 "nbformat_minor": 5
}
