{
 "cells": [
  {
   "cell_type": "code",
   "execution_count": 2,
   "id": "a46d4753-e54f-4581-9cde-0673655ec45a",
   "metadata": {},
   "outputs": [],
   "source": [
    "import fasttext"
   ]
  },
  {
   "cell_type": "code",
   "execution_count": null,
   "id": "0ce7b175-159a-4fe6-83e8-35626f3a6c08",
   "metadata": {},
   "outputs": [],
   "source": [
    "model = fasttext.load_model(r\"C:\\Users\\KIRUBA\\Desktop\\NLP\\fasttext-model\\cc.en.300.bin\")"
   ]
  },
  {
   "cell_type": "code",
   "execution_count": null,
   "id": "2ab06132-e411-4f8c-ae6c-e7632ec769a3",
   "metadata": {},
   "outputs": [],
   "source": []
  }
 ],
 "metadata": {
  "kernelspec": {
   "display_name": "Python 3 (ipykernel)",
   "language": "python",
   "name": "python3"
  },
  "language_info": {
   "codemirror_mode": {
    "name": "ipython",
    "version": 3
   },
   "file_extension": ".py",
   "mimetype": "text/x-python",
   "name": "python",
   "nbconvert_exporter": "python",
   "pygments_lexer": "ipython3",
   "version": "3.10.10"
  },
  "widgets": {
   "application/vnd.jupyter.widget-state+json": {
    "state": {},
    "version_major": 2,
    "version_minor": 0
   }
  }
 },
 "nbformat": 4,
 "nbformat_minor": 5
}
